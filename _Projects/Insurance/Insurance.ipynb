{
 "cells": [
  {
   "cell_type": "markdown",
   "metadata": {},
   "source": [
    "# Data science case: Insurance company\n",
    "\n",
    "---\n",
    "\n",
    "An insurance company wants to identify customers willing to buy a new product. They gathered data\n",
    "about customers to whom they offered the new product. You get information about whether they did or\n",
    "did not sign up for the new product, together with some customer information and information about\n",
    "their buying behavior of two other products.\n",
    "\n",
    "\n",
    "\n",
    "## Dataset description\n",
    "\n",
    "---\n",
    "\n",
    "| Variable | Description | \n",
    "| :---------- | :------------- |\n",
    "| ID | Unique customer identifier |\n",
    "| Target|  Indicator of buying the new product (0 = no, 1=yes) |\n",
    "| Loyalty|  Loyalty level, from low to high (0 to 3), 99 =unclassified |\n",
    "| Age | Age in years |\n",
    "| City|  Unique code per city |\n",
    "| Age_p|  Age of partner in years |\n",
    "| LOR|  Length of relationship in years |\n",
    "| LOR_m|  Length of relationship in months |\n",
    "| Prod_A|  Bought product A (0= no, 1=yes) |\n",
    "| Type_A|  Type of product A |\n",
    "| Turnover_A|  Amount of money spent on product A |\n",
    "| Prod_B|  Bought product B (0= no, 1=yes) |\n",
    "| Type_B|  Type of product B |\n",
    "| Turnover_B|  Amount of money spent on product B |\n",
    "| Contract|  Type of contract |\n"
   ]
  },
  {
   "cell_type": "markdown",
   "metadata": {},
   "source": [
    "## Objectives\n",
    "\n",
    "---\n",
    "\n",
    "The analysis will try to answer the following:\n",
    "- Which steps taken in this analysis?\n",
    "- Which statistical modelling techniques were used and why?\n",
    "- What are the results?\n",
    "- Give a profile description of the customers who are likely to (not) buy the new product.\n",
    "- Which customers should we target to do a marketing campaign for the new product?\n",
    "- How accurate is the prediction of buying the new product?\n",
    "\n",
    "The results of the analysis are summarized at the end (see section 'Conclusions').\n",
    "\n",
    "\n",
    "## Content\n",
    "\n",
    "---\n",
    "\n",
    "* Import of the necessary packages\n",
    "* Data import\n",
    "* Exploratory Data Analysis\n",
    "  * Age distribution\n",
    "  * New product versus A and B\n",
    "  * Age distribution by type of products (from A and B)\n",
    "  * Cities\n",
    "  * Turnover\n",
    "  * Loyalty\n",
    "* Machine Learning Models\n",
    "  * Overview\n",
    "  * Data preparation\n",
    "  * Correlation matrix (heatmap)\n",
    "  * Splitting training and test data\n",
    "  * Random Forest\n",
    "  * Support Vector Classification\n",
    "  * Other models (using Pipeline)\n",
    "  * Neural network (using Keras)\n",
    "  * AutoML (Google)\n",
    "* Conclusions"
   ]
  },
  {
   "cell_type": "markdown",
   "metadata": {},
   "source": [
    "## Import of the necessary packages"
   ]
  },
  {
   "cell_type": "code",
   "execution_count": 3,
   "metadata": {
    "collapsed": true
   },
   "outputs": [],
   "source": [
    "import matplotlib.pyplot as plt\n",
    "import pandas as pd\n",
    "import seaborn as sns\n",
    "import numpy as np\n",
    "%matplotlib inline\n",
    "\n",
    "from sklearn.pipeline import Pipeline\n",
    "from sklearn.preprocessing import Imputer, PolynomialFeatures, StandardScaler\n",
    "from sklearn.multiclass import OneVsRestClassifier\n",
    "from sklearn.linear_model import LogisticRegression, LinearRegression\n",
    "from sklearn.neighbors import KNeighborsClassifier\n",
    "from sklearn.ensemble import RandomForestClassifier\n",
    "from sklearn.model_selection import GridSearchCV\n",
    "from sklearn.tree import DecisionTreeClassifier\n",
    "from sklearn.model_selection import RandomizedSearchCV\n",
    "from scipy.stats import randint\n",
    "from sklearn.linear_model import Lasso\n",
    "from sklearn.linear_model import Ridge\n",
    "from sklearn import metrics\n",
    "from sklearn.model_selection import train_test_split\n",
    "\n",
    "from sklearn.svm import SVC\n",
    "from sklearn.metrics import accuracy_score, confusion_matrix, precision_recall_fscore_support"
   ]
  },
  {
   "cell_type": "markdown",
   "metadata": {},
   "source": [
    "## Data import"
   ]
  },
  {
   "cell_type": "code",
   "execution_count": 4,
   "metadata": {
    "collapsed": true
   },
   "outputs": [],
   "source": [
    "import pandas as pd\n",
    "data = pd.read_csv('insurance.csv')"
   ]
  },
  {
   "cell_type": "code",
   "execution_count": 5,
   "metadata": {},
   "outputs": [
    {
     "name": "stdout",
     "output_type": "stream",
     "text": [
      "<class 'pandas.core.frame.DataFrame'>\n",
      "RangeIndex: 14016 entries, 0 to 14015\n",
      "Data columns (total 15 columns):\n",
      "TARGET        14016 non-null object\n",
      "loyalty       14016 non-null int64\n",
      "ID            14016 non-null int64\n",
      "age           14016 non-null int64\n",
      "city          14016 non-null int64\n",
      "LOR           14016 non-null int64\n",
      "prod_A        14016 non-null int64\n",
      "type_A        14016 non-null int64\n",
      "type_B        14016 non-null int64\n",
      "prod_B        14016 non-null int64\n",
      "turnover_A    14016 non-null float64\n",
      "turnover_B    14016 non-null float64\n",
      "contract      14016 non-null int64\n",
      "age_P         14016 non-null int64\n",
      "lor_M         14016 non-null int64\n",
      "dtypes: float64(2), int64(12), object(1)\n",
      "memory usage: 1.6+ MB\n"
     ]
    }
   ],
   "source": [
    "data.info()"
   ]
  },
  {
   "cell_type": "markdown",
   "metadata": {},
   "source": [
    "No missing data.  We can also confirm this with the following command."
   ]
  },
  {
   "cell_type": "code",
   "execution_count": 6,
   "metadata": {},
   "outputs": [
    {
     "data": {
      "text/plain": [
       "TARGET        0\n",
       "loyalty       0\n",
       "ID            0\n",
       "age           0\n",
       "city          0\n",
       "LOR           0\n",
       "prod_A        0\n",
       "type_A        0\n",
       "type_B        0\n",
       "prod_B        0\n",
       "turnover_A    0\n",
       "turnover_B    0\n",
       "contract      0\n",
       "age_P         0\n",
       "lor_M         0\n",
       "dtype: int64"
      ]
     },
     "execution_count": 6,
     "metadata": {},
     "output_type": "execute_result"
    }
   ],
   "source": [
    "data.isnull().sum()"
   ]
  },
  {
   "cell_type": "code",
   "execution_count": 7,
   "metadata": {},
   "outputs": [
    {
     "data": {
      "text/html": [
       "<div>\n",
       "<style>\n",
       "    .dataframe thead tr:only-child th {\n",
       "        text-align: right;\n",
       "    }\n",
       "\n",
       "    .dataframe thead th {\n",
       "        text-align: left;\n",
       "    }\n",
       "\n",
       "    .dataframe tbody tr th {\n",
       "        vertical-align: top;\n",
       "    }\n",
       "</style>\n",
       "<table border=\"1\" class=\"dataframe\">\n",
       "  <thead>\n",
       "    <tr style=\"text-align: right;\">\n",
       "      <th></th>\n",
       "      <th>TARGET</th>\n",
       "      <th>loyalty</th>\n",
       "      <th>ID</th>\n",
       "      <th>age</th>\n",
       "      <th>city</th>\n",
       "      <th>LOR</th>\n",
       "      <th>prod_A</th>\n",
       "      <th>type_A</th>\n",
       "      <th>type_B</th>\n",
       "      <th>prod_B</th>\n",
       "      <th>turnover_A</th>\n",
       "      <th>turnover_B</th>\n",
       "      <th>contract</th>\n",
       "      <th>age_P</th>\n",
       "      <th>lor_M</th>\n",
       "    </tr>\n",
       "  </thead>\n",
       "  <tbody>\n",
       "    <tr>\n",
       "      <th>0</th>\n",
       "      <td>Y</td>\n",
       "      <td>99</td>\n",
       "      <td>77</td>\n",
       "      <td>66</td>\n",
       "      <td>2</td>\n",
       "      <td>0</td>\n",
       "      <td>0</td>\n",
       "      <td>0</td>\n",
       "      <td>0</td>\n",
       "      <td>0</td>\n",
       "      <td>333.561114</td>\n",
       "      <td>264.721010</td>\n",
       "      <td>2</td>\n",
       "      <td>66</td>\n",
       "      <td>3</td>\n",
       "    </tr>\n",
       "    <tr>\n",
       "      <th>1</th>\n",
       "      <td>Y</td>\n",
       "      <td>1</td>\n",
       "      <td>159</td>\n",
       "      <td>45</td>\n",
       "      <td>2</td>\n",
       "      <td>3</td>\n",
       "      <td>1</td>\n",
       "      <td>3</td>\n",
       "      <td>3</td>\n",
       "      <td>1</td>\n",
       "      <td>394.735699</td>\n",
       "      <td>284.904978</td>\n",
       "      <td>2</td>\n",
       "      <td>45</td>\n",
       "      <td>39</td>\n",
       "    </tr>\n",
       "    <tr>\n",
       "      <th>2</th>\n",
       "      <td>Y</td>\n",
       "      <td>1</td>\n",
       "      <td>220</td>\n",
       "      <td>42</td>\n",
       "      <td>2</td>\n",
       "      <td>2</td>\n",
       "      <td>1</td>\n",
       "      <td>3</td>\n",
       "      <td>6</td>\n",
       "      <td>1</td>\n",
       "      <td>342.180990</td>\n",
       "      <td>1175.589721</td>\n",
       "      <td>2</td>\n",
       "      <td>42</td>\n",
       "      <td>27</td>\n",
       "    </tr>\n",
       "    <tr>\n",
       "      <th>3</th>\n",
       "      <td>Y</td>\n",
       "      <td>99</td>\n",
       "      <td>303</td>\n",
       "      <td>31</td>\n",
       "      <td>2</td>\n",
       "      <td>0</td>\n",
       "      <td>0</td>\n",
       "      <td>0</td>\n",
       "      <td>0</td>\n",
       "      <td>0</td>\n",
       "      <td>453.757916</td>\n",
       "      <td>242.341754</td>\n",
       "      <td>2</td>\n",
       "      <td>31</td>\n",
       "      <td>3</td>\n",
       "    </tr>\n",
       "    <tr>\n",
       "      <th>4</th>\n",
       "      <td>Y</td>\n",
       "      <td>99</td>\n",
       "      <td>306</td>\n",
       "      <td>62</td>\n",
       "      <td>2</td>\n",
       "      <td>0</td>\n",
       "      <td>0</td>\n",
       "      <td>0</td>\n",
       "      <td>0</td>\n",
       "      <td>0</td>\n",
       "      <td>384.577469</td>\n",
       "      <td>287.008370</td>\n",
       "      <td>2</td>\n",
       "      <td>62</td>\n",
       "      <td>3</td>\n",
       "    </tr>\n",
       "  </tbody>\n",
       "</table>\n",
       "</div>"
      ],
      "text/plain": [
       "  TARGET  loyalty   ID  age  city  LOR  prod_A  type_A  type_B  prod_B  \\\n",
       "0      Y       99   77   66     2    0       0       0       0       0   \n",
       "1      Y        1  159   45     2    3       1       3       3       1   \n",
       "2      Y        1  220   42     2    2       1       3       6       1   \n",
       "3      Y       99  303   31     2    0       0       0       0       0   \n",
       "4      Y       99  306   62     2    0       0       0       0       0   \n",
       "\n",
       "   turnover_A   turnover_B  contract  age_P  lor_M  \n",
       "0  333.561114   264.721010         2     66      3  \n",
       "1  394.735699   284.904978         2     45     39  \n",
       "2  342.180990  1175.589721         2     42     27  \n",
       "3  453.757916   242.341754         2     31      3  \n",
       "4  384.577469   287.008370         2     62      3  "
      ]
     },
     "execution_count": 7,
     "metadata": {},
     "output_type": "execute_result"
    }
   ],
   "source": [
    "data.head()"
   ]
  },
  {
   "cell_type": "markdown",
   "metadata": {},
   "source": [
    "The columns type_A, type_B, loyalty, city and contract are assumed categorical.  Let's convert their type."
   ]
  },
  {
   "cell_type": "code",
   "execution_count": 8,
   "metadata": {
    "collapsed": true
   },
   "outputs": [],
   "source": [
    "data.type_A = data.type_A.astype('category')\n",
    "data.type_B = data.type_B.astype('category')\n",
    "data.loyalty = data.loyalty.astype('category')\n",
    "data.city = data.city.astype('category')\n",
    "data.contract = data.contract.astype('category')"
   ]
  },
  {
   "cell_type": "markdown",
   "metadata": {},
   "source": [
    "We verify:"
   ]
  },
  {
   "cell_type": "code",
   "execution_count": 9,
   "metadata": {},
   "outputs": [
    {
     "name": "stdout",
     "output_type": "stream",
     "text": [
      "<class 'pandas.core.frame.DataFrame'>\n",
      "RangeIndex: 14016 entries, 0 to 14015\n",
      "Data columns (total 15 columns):\n",
      "TARGET        14016 non-null object\n",
      "loyalty       14016 non-null category\n",
      "ID            14016 non-null int64\n",
      "age           14016 non-null int64\n",
      "city          14016 non-null category\n",
      "LOR           14016 non-null int64\n",
      "prod_A        14016 non-null int64\n",
      "type_A        14016 non-null category\n",
      "type_B        14016 non-null category\n",
      "prod_B        14016 non-null int64\n",
      "turnover_A    14016 non-null float64\n",
      "turnover_B    14016 non-null float64\n",
      "contract      14016 non-null category\n",
      "age_P         14016 non-null int64\n",
      "lor_M         14016 non-null int64\n",
      "dtypes: category(5), float64(2), int64(7), object(1)\n",
      "memory usage: 1.1+ MB\n"
     ]
    }
   ],
   "source": [
    "data.info()"
   ]
  },
  {
   "cell_type": "code",
   "execution_count": 10,
   "metadata": {},
   "outputs": [
    {
     "data": {
      "text/plain": [
       "N    8000\n",
       "Y    6016\n",
       "Name: TARGET, dtype: int64"
      ]
     },
     "execution_count": 10,
     "metadata": {},
     "output_type": "execute_result"
    }
   ],
   "source": [
    "data.TARGET.value_counts()"
   ]
  },
  {
   "cell_type": "markdown",
   "metadata": {},
   "source": [
    "We see the data is slightly unbalanced. For futher analysis, we replace Y/N by 1/0."
   ]
  },
  {
   "cell_type": "code",
   "execution_count": 11,
   "metadata": {},
   "outputs": [
    {
     "data": {
      "text/plain": [
       "0    8000\n",
       "1    6016\n",
       "Name: TARGET, dtype: int64"
      ]
     },
     "execution_count": 11,
     "metadata": {},
     "output_type": "execute_result"
    }
   ],
   "source": [
    "data.TARGET = data.TARGET.map(dict(Y=1, N=0))\n",
    "\n",
    "# We verify\n",
    "data.TARGET.value_counts()"
   ]
  },
  {
   "cell_type": "markdown",
   "metadata": {},
   "source": [
    "## Exploratory Data Analysis\n",
    "Let's analyse the profile of the customer subscribing to the new product (TARGET=1) or not (TARGET=0)."
   ]
  },
  {
   "cell_type": "markdown",
   "metadata": {},
   "source": [
    "### Age distribution\n",
    "Let's start with their age distribution."
   ]
  },
  {
   "cell_type": "code",
   "execution_count": 12,
   "metadata": {},
   "outputs": [
    {
     "data": {
      "image/png": "[encoded data removed]",
      "text/plain": [
       "<Figure size 263.75x216 with 1 Axes>"
      ]
     },
     "metadata": {},
     "output_type": "display_data"
    }
   ],
   "source": [
    "g = sns.FacetGrid(data, hue='TARGET')\n",
    "g.map(sns.kdeplot, 'age', shade=True).add_legend()\n",
    "sns.despine(left=True, bottom=True)"
   ]
  },
  {
   "cell_type": "markdown",
   "metadata": {},
   "source": [
    "For illustration purposes, we here use distplot."
   ]
  },
  {
   "cell_type": "code",
   "execution_count": 13,
   "metadata": {},
   "outputs": [
    {
     "data": {
      "text/plain": [
       "<seaborn.axisgrid.FacetGrid at 0x17a33913d68>"
      ]
     },
     "execution_count": 13,
     "metadata": {},
     "output_type": "execute_result"
    },
    {
     "data": {
      "image/png": "[encoded data removed]",
      "text/plain": [
       "<Figure size 263.75x216 with 1 Axes>"
      ]
     },
     "metadata": {},
     "output_type": "display_data"
    }
   ],
   "source": [
    "g = sns.FacetGrid(data, hue='TARGET')\n",
    "g.map(sns.distplot,'age', bins=10).add_legend()"
   ]
  },
  {
   "cell_type": "markdown",
   "metadata": {},
   "source": [
    "Customers that bought the new product seems to be older on average than the ones that didn't subscribe.  Let's retrieve the descriptive statistics:"
   ]
  },
  {
   "cell_type": "code",
   "execution_count": 14,
   "metadata": {},
   "outputs": [
    {
     "data": {
      "text/plain": [
       "count    6016.000000\n",
       "mean       39.680519\n",
       "std        12.019518\n",
       "min        23.000000\n",
       "25%        30.000000\n",
       "50%        38.000000\n",
       "75%        47.000000\n",
       "max       102.000000\n",
       "Name: age, dtype: float64"
      ]
     },
     "execution_count": 14,
     "metadata": {},
     "output_type": "execute_result"
    }
   ],
   "source": [
    "data.loc[data.TARGET == 1].age.describe()"
   ]
  },
  {
   "cell_type": "markdown",
   "metadata": {},
   "source": [
    "We confirm that the mean of the age is 39 years.  It can be more convenient to visualise these numbers using Box and Whisker plots:"
   ]
  },
  {
   "cell_type": "code",
   "execution_count": 15,
   "metadata": {},
   "outputs": [
    {
     "data": {
      "text/plain": [
       "<matplotlib.axes._subplots.AxesSubplot at 0x17a33d45a90>"
      ]
     },
     "execution_count": 15,
     "metadata": {},
     "output_type": "execute_result"
    },
    {
     "data": {
      "image/png": "[encoded data removed]",
      "text/plain": [
       "<Figure size 432x288 with 1 Axes>"
      ]
     },
     "metadata": {},
     "output_type": "display_data"
    }
   ],
   "source": [
    "import matplotlib.pyplot as plt\n",
    "data.loc[data.TARGET == 1].boxplot('age')"
   ]
  },
  {
   "cell_type": "markdown",
   "metadata": {},
   "source": [
    "For customers that have NOT subscribed to the new product, we obtain the following :"
   ]
  },
  {
   "cell_type": "code",
   "execution_count": 16,
   "metadata": {},
   "outputs": [
    {
     "data": {
      "text/plain": [
       "count    8000.000000\n",
       "mean       33.027125\n",
       "std        12.934848\n",
       "min         5.000000\n",
       "25%        23.000000\n",
       "50%        27.000000\n",
       "75%        40.000000\n",
       "max       102.000000\n",
       "Name: age, dtype: float64"
      ]
     },
     "execution_count": 16,
     "metadata": {},
     "output_type": "execute_result"
    }
   ],
   "source": [
    "data.loc[data.TARGET == 0].age.describe()"
   ]
  },
  {
   "cell_type": "code",
   "execution_count": 17,
   "metadata": {},
   "outputs": [
    {
     "data": {
      "text/plain": [
       "<matplotlib.axes._subplots.AxesSubplot at 0x17a342293c8>"
      ]
     },
     "execution_count": 17,
     "metadata": {},
     "output_type": "execute_result"
    },
    {
     "data": {
      "image/png": "[encoded data removed]",
      "text/plain": [
       "<Figure size 432x288 with 1 Axes>"
      ]
     },
     "metadata": {},
     "output_type": "display_data"
    }
   ],
   "source": [
    "data.loc[data.TARGET == 0].boxplot('age')"
   ]
  },
  {
   "cell_type": "markdown",
   "metadata": {},
   "source": [
    "On average, customers that are buying the new product are 39, while the others are 33. \n",
    "\n",
    "### Subscription to products A and B increases new product adoption?\n",
    "We consider the customers opting for the new product and analyse whether they have also subscribed to product A and B (and if so, we identify the type of product they chose).  "
   ]
  },
  {
   "cell_type": "code",
   "execution_count": 18,
   "metadata": {},
   "outputs": [
    {
     "data": {
      "text/plain": [
       "<seaborn.axisgrid.FacetGrid at 0x17a33dad5c0>"
      ]
     },
     "execution_count": 18,
     "metadata": {},
     "output_type": "execute_result"
    },
    {
     "data": {
      "image/png": "[encoded data removed]",
      "text/plain": [
       "<Figure size 576x576 with 4 Axes>"
      ]
     },
     "metadata": {},
     "output_type": "display_data"
    }
   ],
   "source": [
    "sns.factorplot(x='TARGET', col='prod_A', row='prod_B', kind='count', data=data)"
   ]
  },
  {
   "cell_type": "markdown",
   "metadata": {},
   "source": [
    "- Top-left: Most customers buying the new product didn't subscribe to product A nor B (makes sense).\n",
    "- Bottom-right: Similarly, most customers that didn't buy the new product already subscribed to product A and B\n",
    "- Top-right: Lack of data about customers only subscribing to product A.\n",
    "- Bottom-left: Detaining only product B does not seem to have an impact on the choice of subscribing to the new product"
   ]
  },
  {
   "cell_type": "markdown",
   "metadata": {},
   "source": [
    "Let's analyse whether the type of product A (and B) has an impact."
   ]
  },
  {
   "cell_type": "code",
   "execution_count": 19,
   "metadata": {},
   "outputs": [
    {
     "data": {
      "text/plain": [
       "<seaborn.axisgrid.FacetGrid at 0x17a341abcf8>"
      ]
     },
     "execution_count": 19,
     "metadata": {},
     "output_type": "execute_result"
    },
    {
     "data": {
      "image/png": "[encoded data removed]",
      "text/plain": [
       "<Figure size 1152x864 with 12 Axes>"
      ]
     },
     "metadata": {},
     "output_type": "display_data"
    }
   ],
   "source": [
    "sns.factorplot(x='TARGET', col='type_B', row='type_A', kind='count', data=data)"
   ]
  },
  {
   "cell_type": "markdown",
   "metadata": {},
   "source": [
    "We confirm the same results as before: customers without product A nor B are more inclined to subscribe to the new product.  In the dataset, the customers buying product A (type 3) and product B (type 3) are the most frequent, and for those, we observe that a high number of them didn't subscribe to the new product. Lack of data to confirm that the specific choice of type 3 for both A and B is causing this behaviour. \n",
    "\n",
    "We can reach the same conclusion as follows:"
   ]
  },
  {
   "cell_type": "code",
   "execution_count": 20,
   "metadata": {},
   "outputs": [
    {
     "data": {
      "text/plain": [
       "type_A  type_B\n",
       "0       0         3572\n",
       "        3          338\n",
       "        6            8\n",
       "3       3         2020\n",
       "        6           62\n",
       "        9            2\n",
       "6       6           12\n",
       "        9            2\n",
       "Name: TARGET, dtype: int64"
      ]
     },
     "execution_count": 20,
     "metadata": {},
     "output_type": "execute_result"
    }
   ],
   "source": [
    "data.loc[(data.TARGET == 1)].groupby(['type_A','type_B'])['TARGET'].count()"
   ]
  },
  {
   "cell_type": "markdown",
   "metadata": {},
   "source": [
    "From the customer opting for the new product (TARGET = 1):\n",
    "- 3572 did not subscribe to A nor B\n",
    "- 2020 subscribed to A (type 3) and B (type 3) simultanously.\n",
    "\n",
    "Independently of their subscription to the new product, we obtain:"
   ]
  },
  {
   "cell_type": "code",
   "execution_count": 21,
   "metadata": {},
   "outputs": [
    {
     "data": {
      "text/plain": [
       "type_A  type_B\n",
       "0       0         5614\n",
       "        3          873\n",
       "        6           42\n",
       "        9            5\n",
       "3       3         7001\n",
       "        6          423\n",
       "        9           28\n",
       "6       6           28\n",
       "        9            2\n",
       "Name: TARGET, dtype: int64"
      ]
     },
     "execution_count": 21,
     "metadata": {},
     "output_type": "execute_result"
    }
   ],
   "source": [
    "data.groupby(['type_A','type_B'])['TARGET'].count()"
   ]
  },
  {
   "cell_type": "markdown",
   "metadata": {},
   "source": [
    "From these numbers, we see that:\n",
    "- From the 5614 customers that didn't subscribe to product A nor B, 3572 (63%) subscribed to the new product.  These customers should be targetted.\n",
    "- From the 7001 customers that subscribed to product A (type 3) and product B (type 3) simultanously, only 2020 (30%) subscribed to the new product."
   ]
  },
  {
   "cell_type": "markdown",
   "metadata": {},
   "source": [
    "For convenience, one can display this information on a crosstab:"
   ]
  },
  {
   "cell_type": "code",
   "execution_count": 22,
   "metadata": {},
   "outputs": [
    {
     "data": {
      "text/html": [
       "<style  type=\"text/css\" >\n",
       "    #T_beef0f12_634a_11e9_b686_f8597127cd23row0_col0 {\n",
       "            background-color:  #f99153;\n",
       "        }    #T_beef0f12_634a_11e9_b686_f8597127cd23row0_col1 {\n",
       "            background-color:  #daf08d;\n",
       "        }    #T_beef0f12_634a_11e9_b686_f8597127cd23row0_col2 {\n",
       "            background-color:  #fee08b;\n",
       "        }    #T_beef0f12_634a_11e9_b686_f8597127cd23row1_col0 {\n",
       "            background-color:  #c62027;\n",
       "        }    #T_beef0f12_634a_11e9_b686_f8597127cd23row1_col1 {\n",
       "            background-color:  #c01a27;\n",
       "        }    #T_beef0f12_634a_11e9_b686_f8597127cd23row1_col2 {\n",
       "            background-color:  #c21c27;\n",
       "        }    #T_beef0f12_634a_11e9_b686_f8597127cd23row2_col0 {\n",
       "            background-color:  #a70226;\n",
       "        }    #T_beef0f12_634a_11e9_b686_f8597127cd23row2_col1 {\n",
       "            background-color:  #a50026;\n",
       "        }    #T_beef0f12_634a_11e9_b686_f8597127cd23row2_col2 {\n",
       "            background-color:  #a50026;\n",
       "        }    #T_beef0f12_634a_11e9_b686_f8597127cd23row3_col0 {\n",
       "            background-color:  #a50026;\n",
       "        }    #T_beef0f12_634a_11e9_b686_f8597127cd23row3_col1 {\n",
       "            background-color:  #a50026;\n",
       "        }    #T_beef0f12_634a_11e9_b686_f8597127cd23row3_col2 {\n",
       "            background-color:  #a50026;\n",
       "        }    #T_beef0f12_634a_11e9_b686_f8597127cd23row4_col0 {\n",
       "            background-color:  #a50026;\n",
       "        }    #T_beef0f12_634a_11e9_b686_f8597127cd23row4_col1 {\n",
       "            background-color:  #a50026;\n",
       "        }    #T_beef0f12_634a_11e9_b686_f8597127cd23row4_col2 {\n",
       "            background-color:  #a50026;\n",
       "        }    #T_beef0f12_634a_11e9_b686_f8597127cd23row5_col0 {\n",
       "            background-color:  #cdea83;\n",
       "        }    #T_beef0f12_634a_11e9_b686_f8597127cd23row5_col1 {\n",
       "            background-color:  #fdbf6f;\n",
       "        }    #T_beef0f12_634a_11e9_b686_f8597127cd23row5_col2 {\n",
       "            background-color:  #fffebe;\n",
       "        }    #T_beef0f12_634a_11e9_b686_f8597127cd23row6_col0 {\n",
       "            background-color:  #bb1526;\n",
       "        }    #T_beef0f12_634a_11e9_b686_f8597127cd23row6_col1 {\n",
       "            background-color:  #a90426;\n",
       "        }    #T_beef0f12_634a_11e9_b686_f8597127cd23row6_col2 {\n",
       "            background-color:  #b30d26;\n",
       "        }    #T_beef0f12_634a_11e9_b686_f8597127cd23row7_col0 {\n",
       "            background-color:  #a50026;\n",
       "        }    #T_beef0f12_634a_11e9_b686_f8597127cd23row7_col1 {\n",
       "            background-color:  #a50026;\n",
       "        }    #T_beef0f12_634a_11e9_b686_f8597127cd23row7_col2 {\n",
       "            background-color:  #a50026;\n",
       "        }    #T_beef0f12_634a_11e9_b686_f8597127cd23row8_col0 {\n",
       "            background-color:  #a50026;\n",
       "        }    #T_beef0f12_634a_11e9_b686_f8597127cd23row8_col1 {\n",
       "            background-color:  #a50026;\n",
       "        }    #T_beef0f12_634a_11e9_b686_f8597127cd23row8_col2 {\n",
       "            background-color:  #a50026;\n",
       "        }    #T_beef0f12_634a_11e9_b686_f8597127cd23row9_col0 {\n",
       "            background-color:  #a50026;\n",
       "        }    #T_beef0f12_634a_11e9_b686_f8597127cd23row9_col1 {\n",
       "            background-color:  #a50026;\n",
       "        }    #T_beef0f12_634a_11e9_b686_f8597127cd23row9_col2 {\n",
       "            background-color:  #a50026;\n",
       "        }    #T_beef0f12_634a_11e9_b686_f8597127cd23row10_col0 {\n",
       "            background-color:  #a50026;\n",
       "        }    #T_beef0f12_634a_11e9_b686_f8597127cd23row10_col1 {\n",
       "            background-color:  #a50026;\n",
       "        }    #T_beef0f12_634a_11e9_b686_f8597127cd23row10_col2 {\n",
       "            background-color:  #a50026;\n",
       "        }    #T_beef0f12_634a_11e9_b686_f8597127cd23row11_col0 {\n",
       "            background-color:  #a50026;\n",
       "        }    #T_beef0f12_634a_11e9_b686_f8597127cd23row11_col1 {\n",
       "            background-color:  #a50026;\n",
       "        }    #T_beef0f12_634a_11e9_b686_f8597127cd23row11_col2 {\n",
       "            background-color:  #a50026;\n",
       "        }    #T_beef0f12_634a_11e9_b686_f8597127cd23row12_col0 {\n",
       "            background-color:  #006837;\n",
       "        }    #T_beef0f12_634a_11e9_b686_f8597127cd23row12_col1 {\n",
       "            background-color:  #006837;\n",
       "        }    #T_beef0f12_634a_11e9_b686_f8597127cd23row12_col2 {\n",
       "            background-color:  #006837;\n",
       "        }</style>  \n",
       "<table id=\"T_beef0f12_634a_11e9_b686_f8597127cd23\" > \n",
       "<thead>    <tr> \n",
       "        <th class=\"blank\" ></th> \n",
       "        <th class=\"index_name level0\" >TARGET</th> \n",
       "        <th class=\"col_heading level0 col0\" >0</th> \n",
       "        <th class=\"col_heading level0 col1\" >1</th> \n",
       "        <th class=\"col_heading level0 col2\" >All</th> \n",
       "    </tr>    <tr> \n",
       "        <th class=\"index_name level0\" >type_A</th> \n",
       "        <th class=\"index_name level1\" >type_B</th> \n",
       "        <th class=\"blank\" ></th> \n",
       "        <th class=\"blank\" ></th> \n",
       "        <th class=\"blank\" ></th> \n",
       "    </tr></thead> \n",
       "<tbody>    <tr> \n",
       "        <th id=\"T_beef0f12_634a_11e9_b686_f8597127cd23level0_row0\" class=\"row_heading level0 row0\" rowspan=4>0</th> \n",
       "        <th id=\"T_beef0f12_634a_11e9_b686_f8597127cd23level1_row0\" class=\"row_heading level1 row0\" >0</th> \n",
       "        <td id=\"T_beef0f12_634a_11e9_b686_f8597127cd23row0_col0\" class=\"data row0 col0\" >2042</td> \n",
       "        <td id=\"T_beef0f12_634a_11e9_b686_f8597127cd23row0_col1\" class=\"data row0 col1\" >3572</td> \n",
       "        <td id=\"T_beef0f12_634a_11e9_b686_f8597127cd23row0_col2\" class=\"data row0 col2\" >5614</td> \n",
       "    </tr>    <tr> \n",
       "        <th id=\"T_beef0f12_634a_11e9_b686_f8597127cd23level1_row1\" class=\"row_heading level1 row1\" >3</th> \n",
       "        <td id=\"T_beef0f12_634a_11e9_b686_f8597127cd23row1_col0\" class=\"data row1 col0\" >535</td> \n",
       "        <td id=\"T_beef0f12_634a_11e9_b686_f8597127cd23row1_col1\" class=\"data row1 col1\" >338</td> \n",
       "        <td id=\"T_beef0f12_634a_11e9_b686_f8597127cd23row1_col2\" class=\"data row1 col2\" >873</td> \n",
       "    </tr>    <tr> \n",
       "        <th id=\"T_beef0f12_634a_11e9_b686_f8597127cd23level1_row2\" class=\"row_heading level1 row2\" >6</th> \n",
       "        <td id=\"T_beef0f12_634a_11e9_b686_f8597127cd23row2_col0\" class=\"data row2 col0\" >34</td> \n",
       "        <td id=\"T_beef0f12_634a_11e9_b686_f8597127cd23row2_col1\" class=\"data row2 col1\" >8</td> \n",
       "        <td id=\"T_beef0f12_634a_11e9_b686_f8597127cd23row2_col2\" class=\"data row2 col2\" >42</td> \n",
       "    </tr>    <tr> \n",
       "        <th id=\"T_beef0f12_634a_11e9_b686_f8597127cd23level1_row3\" class=\"row_heading level1 row3\" >9</th> \n",
       "        <td id=\"T_beef0f12_634a_11e9_b686_f8597127cd23row3_col0\" class=\"data row3 col0\" >5</td> \n",
       "        <td id=\"T_beef0f12_634a_11e9_b686_f8597127cd23row3_col1\" class=\"data row3 col1\" >0</td> \n",
       "        <td id=\"T_beef0f12_634a_11e9_b686_f8597127cd23row3_col2\" class=\"data row3 col2\" >5</td> \n",
       "    </tr>    <tr> \n",
       "        <th id=\"T_beef0f12_634a_11e9_b686_f8597127cd23level0_row4\" class=\"row_heading level0 row4\" rowspan=4>3</th> \n",
       "        <th id=\"T_beef0f12_634a_11e9_b686_f8597127cd23level1_row4\" class=\"row_heading level1 row4\" >0</th> \n",
       "        <td id=\"T_beef0f12_634a_11e9_b686_f8597127cd23row4_col0\" class=\"data row4 col0\" >0</td> \n",
       "        <td id=\"T_beef0f12_634a_11e9_b686_f8597127cd23row4_col1\" class=\"data row4 col1\" >0</td> \n",
       "        <td id=\"T_beef0f12_634a_11e9_b686_f8597127cd23row4_col2\" class=\"data row4 col2\" >0</td> \n",
       "    </tr>    <tr> \n",
       "        <th id=\"T_beef0f12_634a_11e9_b686_f8597127cd23level1_row5\" class=\"row_heading level1 row5\" >3</th> \n",
       "        <td id=\"T_beef0f12_634a_11e9_b686_f8597127cd23row5_col0\" class=\"data row5 col0\" >4981</td> \n",
       "        <td id=\"T_beef0f12_634a_11e9_b686_f8597127cd23row5_col1\" class=\"data row5 col1\" >2020</td> \n",
       "        <td id=\"T_beef0f12_634a_11e9_b686_f8597127cd23row5_col2\" class=\"data row5 col2\" >7001</td> \n",
       "    </tr>    <tr> \n",
       "        <th id=\"T_beef0f12_634a_11e9_b686_f8597127cd23level1_row6\" class=\"row_heading level1 row6\" >6</th> \n",
       "        <td id=\"T_beef0f12_634a_11e9_b686_f8597127cd23row6_col0\" class=\"data row6 col0\" >361</td> \n",
       "        <td id=\"T_beef0f12_634a_11e9_b686_f8597127cd23row6_col1\" class=\"data row6 col1\" >62</td> \n",
       "        <td id=\"T_beef0f12_634a_11e9_b686_f8597127cd23row6_col2\" class=\"data row6 col2\" >423</td> \n",
       "    </tr>    <tr> \n",
       "        <th id=\"T_beef0f12_634a_11e9_b686_f8597127cd23level1_row7\" class=\"row_heading level1 row7\" >9</th> \n",
       "        <td id=\"T_beef0f12_634a_11e9_b686_f8597127cd23row7_col0\" class=\"data row7 col0\" >26</td> \n",
       "        <td id=\"T_beef0f12_634a_11e9_b686_f8597127cd23row7_col1\" class=\"data row7 col1\" >2</td> \n",
       "        <td id=\"T_beef0f12_634a_11e9_b686_f8597127cd23row7_col2\" class=\"data row7 col2\" >28</td> \n",
       "    </tr>    <tr> \n",
       "        <th id=\"T_beef0f12_634a_11e9_b686_f8597127cd23level0_row8\" class=\"row_heading level0 row8\" rowspan=4>6</th> \n",
       "        <th id=\"T_beef0f12_634a_11e9_b686_f8597127cd23level1_row8\" class=\"row_heading level1 row8\" >0</th> \n",
       "        <td id=\"T_beef0f12_634a_11e9_b686_f8597127cd23row8_col0\" class=\"data row8 col0\" >0</td> \n",
       "        <td id=\"T_beef0f12_634a_11e9_b686_f8597127cd23row8_col1\" class=\"data row8 col1\" >0</td> \n",
       "        <td id=\"T_beef0f12_634a_11e9_b686_f8597127cd23row8_col2\" class=\"data row8 col2\" >0</td> \n",
       "    </tr>    <tr> \n",
       "        <th id=\"T_beef0f12_634a_11e9_b686_f8597127cd23level1_row9\" class=\"row_heading level1 row9\" >3</th> \n",
       "        <td id=\"T_beef0f12_634a_11e9_b686_f8597127cd23row9_col0\" class=\"data row9 col0\" >0</td> \n",
       "        <td id=\"T_beef0f12_634a_11e9_b686_f8597127cd23row9_col1\" class=\"data row9 col1\" >0</td> \n",
       "        <td id=\"T_beef0f12_634a_11e9_b686_f8597127cd23row9_col2\" class=\"data row9 col2\" >0</td> \n",
       "    </tr>    <tr> \n",
       "        <th id=\"T_beef0f12_634a_11e9_b686_f8597127cd23level1_row10\" class=\"row_heading level1 row10\" >6</th> \n",
       "        <td id=\"T_beef0f12_634a_11e9_b686_f8597127cd23row10_col0\" class=\"data row10 col0\" >16</td> \n",
       "        <td id=\"T_beef0f12_634a_11e9_b686_f8597127cd23row10_col1\" class=\"data row10 col1\" >12</td> \n",
       "        <td id=\"T_beef0f12_634a_11e9_b686_f8597127cd23row10_col2\" class=\"data row10 col2\" >28</td> \n",
       "    </tr>    <tr> \n",
       "        <th id=\"T_beef0f12_634a_11e9_b686_f8597127cd23level1_row11\" class=\"row_heading level1 row11\" >9</th> \n",
       "        <td id=\"T_beef0f12_634a_11e9_b686_f8597127cd23row11_col0\" class=\"data row11 col0\" >0</td> \n",
       "        <td id=\"T_beef0f12_634a_11e9_b686_f8597127cd23row11_col1\" class=\"data row11 col1\" >2</td> \n",
       "        <td id=\"T_beef0f12_634a_11e9_b686_f8597127cd23row11_col2\" class=\"data row11 col2\" >2</td> \n",
       "    </tr>    <tr> \n",
       "        <th id=\"T_beef0f12_634a_11e9_b686_f8597127cd23level0_row12\" class=\"row_heading level0 row12\" >All</th> \n",
       "        <th id=\"T_beef0f12_634a_11e9_b686_f8597127cd23level1_row12\" class=\"row_heading level1 row12\" ></th> \n",
       "        <td id=\"T_beef0f12_634a_11e9_b686_f8597127cd23row12_col0\" class=\"data row12 col0\" >8000</td> \n",
       "        <td id=\"T_beef0f12_634a_11e9_b686_f8597127cd23row12_col1\" class=\"data row12 col1\" >6016</td> \n",
       "        <td id=\"T_beef0f12_634a_11e9_b686_f8597127cd23row12_col2\" class=\"data row12 col2\" >14016</td> \n",
       "    </tr></tbody> \n",
       "</table> "
      ],
      "text/plain": [
       "<pandas.io.formats.style.Styler at 0x17a344cda90>"
      ]
     },
     "execution_count": 22,
     "metadata": {},
     "output_type": "execute_result"
    }
   ],
   "source": [
    "pd.crosstab([data.type_A,data.type_B],data.TARGET,margins=True).style.background_gradient(cmap='RdYlGn')"
   ]
  },
  {
   "cell_type": "markdown",
   "metadata": {},
   "source": [
    "### Age distribution by type of product\n",
    "We can look at the age distribution depending on the type of product (from A and/or B) chosen by the customers."
   ]
  },
  {
   "cell_type": "code",
   "execution_count": 23,
   "metadata": {},
   "outputs": [
    {
     "data": {
      "image/png": "[encoded data removed]",
      "text/plain": [
       "<Figure size 911.75x648 with 12 Axes>"
      ]
     },
     "metadata": {},
     "output_type": "display_data"
    }
   ],
   "source": [
    "g = sns.FacetGrid(data, col='type_B', row='type_A', hue='TARGET')\n",
    "g.map(sns.kdeplot, 'age', shade=True).add_legend()\n",
    "sns.despine(left=True, bottom=True)"
   ]
  },
  {
   "cell_type": "code",
   "execution_count": 24,
   "metadata": {},
   "outputs": [
    {
     "data": {
      "text/plain": [
       "<matplotlib.axes._subplots.AxesSubplot at 0x17a35d35c50>"
      ]
     },
     "execution_count": 24,
     "metadata": {},
     "output_type": "execute_result"
    },
    {
     "data": {
      "image/png": "[encoded data removed]",
      "text/plain": [
       "<Figure size 432x288 with 1 Axes>"
      ]
     },
     "metadata": {},
     "output_type": "display_data"
    }
   ],
   "source": [
    "data.loc[data.TARGET == 1].boxplot('age', 'type_A')"
   ]
  },
  {
   "cell_type": "code",
   "execution_count": 25,
   "metadata": {},
   "outputs": [
    {
     "data": {
      "text/plain": [
       "count    6016.000000\n",
       "mean       39.680519\n",
       "std        12.019518\n",
       "min        23.000000\n",
       "25%        30.000000\n",
       "50%        38.000000\n",
       "75%        47.000000\n",
       "max       102.000000\n",
       "Name: age, dtype: float64"
      ]
     },
     "execution_count": 25,
     "metadata": {},
     "output_type": "execute_result"
    }
   ],
   "source": [
    "data.loc[data.TARGET == 1].age.describe()"
   ]
  },
  {
   "cell_type": "code",
   "execution_count": 26,
   "metadata": {},
   "outputs": [
    {
     "data": {
      "text/plain": [
       "<matplotlib.axes._subplots.AxesSubplot at 0x17a366ffda0>"
      ]
     },
     "execution_count": 26,
     "metadata": {},
     "output_type": "execute_result"
    },
    {
     "data": {
      "image/png": "[encoded data removed]",
      "text/plain": [
       "<Figure size 432x288 with 1 Axes>"
      ]
     },
     "metadata": {},
     "output_type": "display_data"
    }
   ],
   "source": [
    "data.loc[(data.prod_A == 1) & (data.TARGET == 0)].boxplot('age', 'type_A')"
   ]
  },
  {
   "cell_type": "code",
   "execution_count": 27,
   "metadata": {},
   "outputs": [
    {
     "data": {
      "text/plain": [
       "count    5384.000000\n",
       "mean       32.135587\n",
       "std        12.063882\n",
       "min         5.000000\n",
       "25%        23.000000\n",
       "50%        27.000000\n",
       "75%        38.000000\n",
       "max        94.000000\n",
       "Name: age, dtype: float64"
      ]
     },
     "execution_count": 27,
     "metadata": {},
     "output_type": "execute_result"
    }
   ],
   "source": [
    "data.loc[(data.prod_A == 1) & (data.TARGET == 0)].age.describe()"
   ]
  },
  {
   "cell_type": "markdown",
   "metadata": {},
   "source": [
    "### City"
   ]
  },
  {
   "cell_type": "markdown",
   "metadata": {},
   "source": [
    "We filter the dataset so as to retrieve records with a city appearing more than 10 times."
   ]
  },
  {
   "cell_type": "code",
   "execution_count": 28,
   "metadata": {},
   "outputs": [
    {
     "data": {
      "text/plain": [
       "2     13720\n",
       "1        28\n",
       "0        26\n",
       "8        21\n",
       "9        20\n",
       "4        19\n",
       "7        15\n",
       "5        15\n",
       "14       13\n",
       "3        12\n",
       "Name: city, dtype: int64"
      ]
     },
     "execution_count": 28,
     "metadata": {},
     "output_type": "execute_result"
    }
   ],
   "source": [
    "cities = data.city.value_counts()\n",
    "data2 = data[data.city.isin(cities[cities>10].index)]\n",
    "\n",
    "# Just to check\n",
    "data2.city.value_counts().head(10)"
   ]
  },
  {
   "cell_type": "code",
   "execution_count": 29,
   "metadata": {},
   "outputs": [
    {
     "data": {
      "text/plain": [
       "2     5902\n",
       "1       22\n",
       "0       12\n",
       "8        8\n",
       "7        8\n",
       "9        8\n",
       "4        8\n",
       "14       6\n",
       "6        4\n",
       "5        4\n",
       "Name: city, dtype: int64"
      ]
     },
     "execution_count": 29,
     "metadata": {},
     "output_type": "execute_result"
    }
   ],
   "source": [
    "data2.loc[data.TARGET == 1].city.value_counts().head(10)"
   ]
  },
  {
   "cell_type": "markdown",
   "metadata": {},
   "source": [
    "We see that:\n",
    "- In city 2, 5902 customers out of 13720 (43%) opted for the new product \n",
    "- In city 1, 22 customers out of 28 (78%) opted for the new product\n",
    "\n",
    "Such information can help targetting to specific cities."
   ]
  },
  {
   "cell_type": "markdown",
   "metadata": {},
   "source": [
    "The same information can be retrieved using a crosstab."
   ]
  },
  {
   "cell_type": "code",
   "execution_count": 30,
   "metadata": {},
   "outputs": [
    {
     "data": {
      "text/html": [
       "<style  type=\"text/css\" >\n",
       "    #T_c0901f3a_634a_11e9_940f_f8597127cd23row0_col0 {\n",
       "            background-color:  #a50026;\n",
       "        }    #T_c0901f3a_634a_11e9_940f_f8597127cd23row0_col1 {\n",
       "            background-color:  #a50026;\n",
       "        }    #T_c0901f3a_634a_11e9_940f_f8597127cd23row0_col2 {\n",
       "            background-color:  #a50026;\n",
       "        }    #T_c0901f3a_634a_11e9_940f_f8597127cd23row1_col0 {\n",
       "            background-color:  #a50026;\n",
       "        }    #T_c0901f3a_634a_11e9_940f_f8597127cd23row1_col1 {\n",
       "            background-color:  #a50026;\n",
       "        }    #T_c0901f3a_634a_11e9_940f_f8597127cd23row1_col2 {\n",
       "            background-color:  #a50026;\n",
       "        }    #T_c0901f3a_634a_11e9_940f_f8597127cd23row2_col0 {\n",
       "            background-color:  #a50026;\n",
       "        }    #T_c0901f3a_634a_11e9_940f_f8597127cd23row2_col1 {\n",
       "            background-color:  #a50026;\n",
       "        }    #T_c0901f3a_634a_11e9_940f_f8597127cd23row2_col2 {\n",
       "            background-color:  #a50026;\n",
       "        }    #T_c0901f3a_634a_11e9_940f_f8597127cd23row3_col0 {\n",
       "            background-color:  #006837;\n",
       "        }    #T_c0901f3a_634a_11e9_940f_f8597127cd23row3_col1 {\n",
       "            background-color:  #006837;\n",
       "        }    #T_c0901f3a_634a_11e9_940f_f8597127cd23row3_col2 {\n",
       "            background-color:  #006837;\n",
       "        }    #T_c0901f3a_634a_11e9_940f_f8597127cd23row4_col0 {\n",
       "            background-color:  #a50026;\n",
       "        }    #T_c0901f3a_634a_11e9_940f_f8597127cd23row4_col1 {\n",
       "            background-color:  #a50026;\n",
       "        }    #T_c0901f3a_634a_11e9_940f_f8597127cd23row4_col2 {\n",
       "            background-color:  #a50026;\n",
       "        }    #T_c0901f3a_634a_11e9_940f_f8597127cd23row5_col0 {\n",
       "            background-color:  #a50026;\n",
       "        }    #T_c0901f3a_634a_11e9_940f_f8597127cd23row5_col1 {\n",
       "            background-color:  #a50026;\n",
       "        }    #T_c0901f3a_634a_11e9_940f_f8597127cd23row5_col2 {\n",
       "            background-color:  #a50026;\n",
       "        }    #T_c0901f3a_634a_11e9_940f_f8597127cd23row6_col0 {\n",
       "            background-color:  #a50026;\n",
       "        }    #T_c0901f3a_634a_11e9_940f_f8597127cd23row6_col1 {\n",
       "            background-color:  #a50026;\n",
       "        }    #T_c0901f3a_634a_11e9_940f_f8597127cd23row6_col2 {\n",
       "            background-color:  #a50026;\n",
       "        }    #T_c0901f3a_634a_11e9_940f_f8597127cd23row7_col0 {\n",
       "            background-color:  #a50026;\n",
       "        }    #T_c0901f3a_634a_11e9_940f_f8597127cd23row7_col1 {\n",
       "            background-color:  #a50026;\n",
       "        }    #T_c0901f3a_634a_11e9_940f_f8597127cd23row7_col2 {\n",
       "            background-color:  #a50026;\n",
       "        }    #T_c0901f3a_634a_11e9_940f_f8597127cd23row8_col0 {\n",
       "            background-color:  #a50026;\n",
       "        }    #T_c0901f3a_634a_11e9_940f_f8597127cd23row8_col1 {\n",
       "            background-color:  #a50026;\n",
       "        }    #T_c0901f3a_634a_11e9_940f_f8597127cd23row8_col2 {\n",
       "            background-color:  #a50026;\n",
       "        }    #T_c0901f3a_634a_11e9_940f_f8597127cd23row9_col0 {\n",
       "            background-color:  #a50026;\n",
       "        }    #T_c0901f3a_634a_11e9_940f_f8597127cd23row9_col1 {\n",
       "            background-color:  #a50026;\n",
       "        }    #T_c0901f3a_634a_11e9_940f_f8597127cd23row9_col2 {\n",
       "            background-color:  #a50026;\n",
       "        }</style>  \n",
       "<table id=\"T_c0901f3a_634a_11e9_940f_f8597127cd23\" > \n",
       "<thead>    <tr> \n",
       "        <th class=\"index_name level0\" >TARGET</th> \n",
       "        <th class=\"col_heading level0 col0\" >0</th> \n",
       "        <th class=\"col_heading level0 col1\" >1</th> \n",
       "        <th class=\"col_heading level0 col2\" >All</th> \n",
       "    </tr>    <tr> \n",
       "        <th class=\"index_name level0\" >city</th> \n",
       "        <th class=\"blank\" ></th> \n",
       "        <th class=\"blank\" ></th> \n",
       "        <th class=\"blank\" ></th> \n",
       "    </tr></thead> \n",
       "<tbody>    <tr> \n",
       "        <th id=\"T_c0901f3a_634a_11e9_940f_f8597127cd23level0_row0\" class=\"row_heading level0 row0\" >-999999</th> \n",
       "        <td id=\"T_c0901f3a_634a_11e9_940f_f8597127cd23row0_col0\" class=\"data row0 col0\" >6</td> \n",
       "        <td id=\"T_c0901f3a_634a_11e9_940f_f8597127cd23row0_col1\" class=\"data row0 col1\" >4</td> \n",
       "        <td id=\"T_c0901f3a_634a_11e9_940f_f8597127cd23row0_col2\" class=\"data row0 col2\" >10</td> \n",
       "    </tr>    <tr> \n",
       "        <th id=\"T_c0901f3a_634a_11e9_940f_f8597127cd23level0_row1\" class=\"row_heading level0 row1\" >0</th> \n",
       "        <td id=\"T_c0901f3a_634a_11e9_940f_f8597127cd23row1_col0\" class=\"data row1 col0\" >14</td> \n",
       "        <td id=\"T_c0901f3a_634a_11e9_940f_f8597127cd23row1_col1\" class=\"data row1 col1\" >12</td> \n",
       "        <td id=\"T_c0901f3a_634a_11e9_940f_f8597127cd23row1_col2\" class=\"data row1 col2\" >26</td> \n",
       "    </tr>    <tr> \n",
       "        <th id=\"T_c0901f3a_634a_11e9_940f_f8597127cd23level0_row2\" class=\"row_heading level0 row2\" >1</th> \n",
       "        <td id=\"T_c0901f3a_634a_11e9_940f_f8597127cd23row2_col0\" class=\"data row2 col0\" >6</td> \n",
       "        <td id=\"T_c0901f3a_634a_11e9_940f_f8597127cd23row2_col1\" class=\"data row2 col1\" >22</td> \n",
       "        <td id=\"T_c0901f3a_634a_11e9_940f_f8597127cd23row2_col2\" class=\"data row2 col2\" >28</td> \n",
       "    </tr>    <tr> \n",
       "        <th id=\"T_c0901f3a_634a_11e9_940f_f8597127cd23level0_row3\" class=\"row_heading level0 row3\" >2</th> \n",
       "        <td id=\"T_c0901f3a_634a_11e9_940f_f8597127cd23row3_col0\" class=\"data row3 col0\" >7818</td> \n",
       "        <td id=\"T_c0901f3a_634a_11e9_940f_f8597127cd23row3_col1\" class=\"data row3 col1\" >5902</td> \n",
       "        <td id=\"T_c0901f3a_634a_11e9_940f_f8597127cd23row3_col2\" class=\"data row3 col2\" >13720</td> \n",
       "    </tr>    <tr> \n",
       "        <th id=\"T_c0901f3a_634a_11e9_940f_f8597127cd23level0_row4\" class=\"row_heading level0 row4\" >3</th> \n",
       "        <td id=\"T_c0901f3a_634a_11e9_940f_f8597127cd23row4_col0\" class=\"data row4 col0\" >8</td> \n",
       "        <td id=\"T_c0901f3a_634a_11e9_940f_f8597127cd23row4_col1\" class=\"data row4 col1\" >4</td> \n",
       "        <td id=\"T_c0901f3a_634a_11e9_940f_f8597127cd23row4_col2\" class=\"data row4 col2\" >12</td> \n",
       "    </tr>    <tr> \n",
       "        <th id=\"T_c0901f3a_634a_11e9_940f_f8597127cd23level0_row5\" class=\"row_heading level0 row5\" >4</th> \n",
       "        <td id=\"T_c0901f3a_634a_11e9_940f_f8597127cd23row5_col0\" class=\"data row5 col0\" >11</td> \n",
       "        <td id=\"T_c0901f3a_634a_11e9_940f_f8597127cd23row5_col1\" class=\"data row5 col1\" >8</td> \n",
       "        <td id=\"T_c0901f3a_634a_11e9_940f_f8597127cd23row5_col2\" class=\"data row5 col2\" >19</td> \n",
       "    </tr>    <tr> \n",
       "        <th id=\"T_c0901f3a_634a_11e9_940f_f8597127cd23level0_row6\" class=\"row_heading level0 row6\" >5</th> \n",
       "        <td id=\"T_c0901f3a_634a_11e9_940f_f8597127cd23row6_col0\" class=\"data row6 col0\" >11</td> \n",
       "        <td id=\"T_c0901f3a_634a_11e9_940f_f8597127cd23row6_col1\" class=\"data row6 col1\" >4</td> \n",
       "        <td id=\"T_c0901f3a_634a_11e9_940f_f8597127cd23row6_col2\" class=\"data row6 col2\" >15</td> \n",
       "    </tr>    <tr> \n",
       "        <th id=\"T_c0901f3a_634a_11e9_940f_f8597127cd23level0_row7\" class=\"row_heading level0 row7\" >6</th> \n",
       "        <td id=\"T_c0901f3a_634a_11e9_940f_f8597127cd23row7_col0\" class=\"data row7 col0\" >7</td> \n",
       "        <td id=\"T_c0901f3a_634a_11e9_940f_f8597127cd23row7_col1\" class=\"data row7 col1\" >4</td> \n",
       "        <td id=\"T_c0901f3a_634a_11e9_940f_f8597127cd23row7_col2\" class=\"data row7 col2\" >11</td> \n",
       "    </tr>    <tr> \n",
       "        <th id=\"T_c0901f3a_634a_11e9_940f_f8597127cd23level0_row8\" class=\"row_heading level0 row8\" >7</th> \n",
       "        <td id=\"T_c0901f3a_634a_11e9_940f_f8597127cd23row8_col0\" class=\"data row8 col0\" >7</td> \n",
       "        <td id=\"T_c0901f3a_634a_11e9_940f_f8597127cd23row8_col1\" class=\"data row8 col1\" >8</td> \n",
       "        <td id=\"T_c0901f3a_634a_11e9_940f_f8597127cd23row8_col2\" class=\"data row8 col2\" >15</td> \n",
       "    </tr>    <tr> \n",
       "        <th id=\"T_c0901f3a_634a_11e9_940f_f8597127cd23level0_row9\" class=\"row_heading level0 row9\" >8</th> \n",
       "        <td id=\"T_c0901f3a_634a_11e9_940f_f8597127cd23row9_col0\" class=\"data row9 col0\" >13</td> \n",
       "        <td id=\"T_c0901f3a_634a_11e9_940f_f8597127cd23row9_col1\" class=\"data row9 col1\" >8</td> \n",
       "        <td id=\"T_c0901f3a_634a_11e9_940f_f8597127cd23row9_col2\" class=\"data row9 col2\" >21</td> \n",
       "    </tr></tbody> \n",
       "</table> "
      ],
      "text/plain": [
       "<pandas.io.formats.style.Styler at 0x17a368abd68>"
      ]
     },
     "execution_count": 30,
     "metadata": {},
     "output_type": "execute_result"
    }
   ],
   "source": [
    "pd.crosstab(data.city,data.TARGET,margins=True).head(10).style.background_gradient(cmap='RdYlGn')"
   ]
  },
  {
   "cell_type": "markdown",
   "metadata": {},
   "source": [
    "### Turnover "
   ]
  },
  {
   "cell_type": "code",
   "execution_count": 31,
   "metadata": {},
   "outputs": [
    {
     "data": {
      "text/plain": [
       "count    14016.000000\n",
       "mean       379.161320\n",
       "std         92.612207\n",
       "min        300.095909\n",
       "25%        334.919412\n",
       "50%        367.891493\n",
       "75%        399.744923\n",
       "max       5568.784139\n",
       "Name: turnover_A, dtype: float64"
      ]
     },
     "execution_count": 31,
     "metadata": {},
     "output_type": "execute_result"
    }
   ],
   "source": [
    "data.turnover_A.describe()"
   ]
  },
  {
   "cell_type": "code",
   "execution_count": 32,
   "metadata": {},
   "outputs": [
    {
     "data": {
      "image/png": "[encoded data removed]",
      "text/plain": [
       "<Figure size 695.75x216 with 3 Axes>"
      ]
     },
     "metadata": {},
     "output_type": "display_data"
    }
   ],
   "source": [
    "g = sns.FacetGrid(data.loc[(data.turnover_A < 500)&(data.turnover_B < 500)], col='type_A', hue='TARGET')\n",
    "g.map(sns.kdeplot, 'turnover_A', shade=True).add_legend()\n",
    "sns.despine(left=True, bottom=True)"
   ]
  },
  {
   "cell_type": "code",
   "execution_count": 33,
   "metadata": {},
   "outputs": [
    {
     "data": {
      "image/png": "[encoded data removed]",
      "text/plain": [
       "<Figure size 911.75x216 with 4 Axes>"
      ]
     },
     "metadata": {},
     "output_type": "display_data"
    }
   ],
   "source": [
    "g = sns.FacetGrid(data.loc[(data.turnover_A < 500)&(data.turnover_B < 500)], col='type_B', hue='TARGET')\n",
    "g.map(sns.kdeplot, 'turnover_B', shade=True).add_legend()\n",
    "sns.despine(left=True, bottom=True)"
   ]
  },
  {
   "cell_type": "code",
   "execution_count": 34,
   "metadata": {},
   "outputs": [
    {
     "data": {
      "image/png": "[encoded data removed]",
      "text/plain": [
       "<Figure size 911.75x648 with 12 Axes>"
      ]
     },
     "metadata": {},
     "output_type": "display_data"
    }
   ],
   "source": [
    "g = sns.FacetGrid(data.loc[(data.turnover_A < 500)&(data.turnover_B < 500)], col='type_B', row='type_A', hue='TARGET')\n",
    "g.map(sns.kdeplot, 'turnover_A', shade=True).add_legend()\n",
    "sns.despine(left=True, bottom=True)"
   ]
  },
  {
   "cell_type": "code",
   "execution_count": 35,
   "metadata": {
    "collapsed": true
   },
   "outputs": [],
   "source": [
    "data['turnover_AB'] = data.turnover_A + data.turnover_B"
   ]
  },
  {
   "cell_type": "code",
   "execution_count": 36,
   "metadata": {},
   "outputs": [
    {
     "data": {
      "image/png": "[encoded data removed]",
      "text/plain": [
       "<Figure size 479.75x432 with 4 Axes>"
      ]
     },
     "metadata": {},
     "output_type": "display_data"
    }
   ],
   "source": [
    "g = sns.FacetGrid(data.loc[(data.turnover_A < 500)&(data.turnover_B < 500)], col='prod_B', row='prod_A', hue='TARGET')\n",
    "g.map(sns.kdeplot, 'turnover_AB', shade=True).add_legend()\n",
    "sns.despine(left=True, bottom=True)"
   ]
  },
  {
   "cell_type": "code",
   "execution_count": 37,
   "metadata": {},
   "outputs": [
    {
     "data": {
      "text/plain": [
       "<matplotlib.axes._subplots.AxesSubplot at 0x17a36228860>"
      ]
     },
     "execution_count": 37,
     "metadata": {},
     "output_type": "execute_result"
    },
    {
     "data": {
      "image/png": "[encoded data removed]",
      "text/plain": [
       "<Figure size 432x288 with 1 Axes>"
      ]
     },
     "metadata": {},
     "output_type": "display_data"
    }
   ],
   "source": [
    "data.plot.scatter('age','turnover_AB')"
   ]
  },
  {
   "cell_type": "markdown",
   "metadata": {},
   "source": [
    "Logically, the total turnover of A and B seems positively correlated with the age."
   ]
  },
  {
   "cell_type": "markdown",
   "metadata": {},
   "source": [
    "### Loyalty"
   ]
  },
  {
   "cell_type": "code",
   "execution_count": 38,
   "metadata": {},
   "outputs": [
    {
     "data": {
      "text/plain": [
       "<seaborn.axisgrid.FacetGrid at 0x17a3665c320>"
      ]
     },
     "execution_count": 38,
     "metadata": {},
     "output_type": "execute_result"
    },
    {
     "data": {
      "image/png": "[encoded data removed]",
      "text/plain": [
       "<Figure size 1440x288 with 5 Axes>"
      ]
     },
     "metadata": {},
     "output_type": "display_data"
    }
   ],
   "source": [
    "sns.factorplot(x='TARGET', col='loyalty', kind='count', data=data)"
   ]
  },
  {
   "cell_type": "markdown",
   "metadata": {},
   "source": [
    "Disregarding the unclassified customers (loyalty = 99), customers with a high loyalty (3) don't seem to be inclined to buy the new product.  They shouldn't be targetted in priority. For customers with loyalty 1, the gap seems the smallest."
   ]
  },
  {
   "cell_type": "code",
   "execution_count": 39,
   "metadata": {},
   "outputs": [
    {
     "data": {
      "text/html": [
       "<div>\n",
       "<style>\n",
       "    .dataframe thead tr:only-child th {\n",
       "        text-align: right;\n",
       "    }\n",
       "\n",
       "    .dataframe thead th {\n",
       "        text-align: left;\n",
       "    }\n",
       "\n",
       "    .dataframe tbody tr th {\n",
       "        vertical-align: top;\n",
       "    }\n",
       "</style>\n",
       "<table border=\"1\" class=\"dataframe\">\n",
       "  <thead>\n",
       "    <tr style=\"text-align: right;\">\n",
       "      <th>TARGET</th>\n",
       "      <th>0</th>\n",
       "      <th>1</th>\n",
       "      <th>All</th>\n",
       "    </tr>\n",
       "    <tr>\n",
       "      <th>loyalty</th>\n",
       "      <th></th>\n",
       "      <th></th>\n",
       "      <th></th>\n",
       "    </tr>\n",
       "  </thead>\n",
       "  <tbody>\n",
       "    <tr>\n",
       "      <th>0</th>\n",
       "      <td>56</td>\n",
       "      <td>0</td>\n",
       "      <td>56</td>\n",
       "    </tr>\n",
       "    <tr>\n",
       "      <th>1</th>\n",
       "      <td>1558</td>\n",
       "      <td>922</td>\n",
       "      <td>2480</td>\n",
       "    </tr>\n",
       "    <tr>\n",
       "      <th>2</th>\n",
       "      <td>943</td>\n",
       "      <td>482</td>\n",
       "      <td>1425</td>\n",
       "    </tr>\n",
       "    <tr>\n",
       "      <th>3</th>\n",
       "      <td>2333</td>\n",
       "      <td>736</td>\n",
       "      <td>3069</td>\n",
       "    </tr>\n",
       "    <tr>\n",
       "      <th>99</th>\n",
       "      <td>3110</td>\n",
       "      <td>3876</td>\n",
       "      <td>6986</td>\n",
       "    </tr>\n",
       "    <tr>\n",
       "      <th>All</th>\n",
       "      <td>8000</td>\n",
       "      <td>6016</td>\n",
       "      <td>14016</td>\n",
       "    </tr>\n",
       "  </tbody>\n",
       "</table>\n",
       "</div>"
      ],
      "text/plain": [
       "TARGET      0     1    All\n",
       "loyalty                   \n",
       "0          56     0     56\n",
       "1        1558   922   2480\n",
       "2         943   482   1425\n",
       "3        2333   736   3069\n",
       "99       3110  3876   6986\n",
       "All      8000  6016  14016"
      ]
     },
     "execution_count": 39,
     "metadata": {},
     "output_type": "execute_result"
    }
   ],
   "source": [
    "cross_lyt = pd.crosstab(data.loyalty,data.TARGET,margins=True)\n",
    "cross_lyt"
   ]
  },
  {
   "cell_type": "code",
   "execution_count": 40,
   "metadata": {},
   "outputs": [
    {
     "data": {
      "text/plain": [
       "Index([0, 1, 2, 3, 99, 'All'], dtype='object', name='loyalty')"
      ]
     },
     "execution_count": 40,
     "metadata": {},
     "output_type": "execute_result"
    }
   ],
   "source": [
    "cross_lyt.index"
   ]
  },
  {
   "cell_type": "code",
   "execution_count": 41,
   "metadata": {},
   "outputs": [
    {
     "data": {
      "text/plain": [
       "Index([0, 1, 'All'], dtype='object', name='TARGET')"
      ]
     },
     "execution_count": 41,
     "metadata": {},
     "output_type": "execute_result"
    }
   ],
   "source": [
    "cross_lyt.columns"
   ]
  },
  {
   "cell_type": "code",
   "execution_count": 42,
   "metadata": {},
   "outputs": [
    {
     "data": {
      "text/html": [
       "<div>\n",
       "<style>\n",
       "    .dataframe thead tr:only-child th {\n",
       "        text-align: right;\n",
       "    }\n",
       "\n",
       "    .dataframe thead th {\n",
       "        text-align: left;\n",
       "    }\n",
       "\n",
       "    .dataframe tbody tr th {\n",
       "        vertical-align: top;\n",
       "    }\n",
       "</style>\n",
       "<table border=\"1\" class=\"dataframe\">\n",
       "  <thead>\n",
       "    <tr style=\"text-align: right;\">\n",
       "      <th>TARGET</th>\n",
       "      <th>0</th>\n",
       "      <th>1</th>\n",
       "      <th>All</th>\n",
       "    </tr>\n",
       "    <tr>\n",
       "      <th>loyalty</th>\n",
       "      <th></th>\n",
       "      <th></th>\n",
       "      <th></th>\n",
       "    </tr>\n",
       "  </thead>\n",
       "  <tbody>\n",
       "    <tr>\n",
       "      <th>0</th>\n",
       "      <td>0.7000</td>\n",
       "      <td>0.000000</td>\n",
       "      <td>0.399543</td>\n",
       "    </tr>\n",
       "    <tr>\n",
       "      <th>1</th>\n",
       "      <td>19.4750</td>\n",
       "      <td>15.325798</td>\n",
       "      <td>17.694064</td>\n",
       "    </tr>\n",
       "    <tr>\n",
       "      <th>2</th>\n",
       "      <td>11.7875</td>\n",
       "      <td>8.011968</td>\n",
       "      <td>10.166952</td>\n",
       "    </tr>\n",
       "    <tr>\n",
       "      <th>3</th>\n",
       "      <td>29.1625</td>\n",
       "      <td>12.234043</td>\n",
       "      <td>21.896404</td>\n",
       "    </tr>\n",
       "    <tr>\n",
       "      <th>99</th>\n",
       "      <td>38.8750</td>\n",
       "      <td>64.428191</td>\n",
       "      <td>49.843037</td>\n",
       "    </tr>\n",
       "    <tr>\n",
       "      <th>All</th>\n",
       "      <td>100.0000</td>\n",
       "      <td>100.000000</td>\n",
       "      <td>100.000000</td>\n",
       "    </tr>\n",
       "  </tbody>\n",
       "</table>\n",
       "</div>"
      ],
      "text/plain": [
       "TARGET          0           1         All\n",
       "loyalty                                  \n",
       "0          0.7000    0.000000    0.399543\n",
       "1         19.4750   15.325798   17.694064\n",
       "2         11.7875    8.011968   10.166952\n",
       "3         29.1625   12.234043   21.896404\n",
       "99        38.8750   64.428191   49.843037\n",
       "All      100.0000  100.000000  100.000000"
      ]
     },
     "execution_count": 42,
     "metadata": {},
     "output_type": "execute_result"
    }
   ],
   "source": [
    "cross_lyt*100/cross_lyt.ix['All']"
   ]
  },
  {
   "cell_type": "markdown",
   "metadata": {},
   "source": [
    "#### Chi Squared test\n",
    "\n",
    "The Chi-square test of independence tests if there is a relationship between two categorical variables. The data is usually displayed in a cross-tabulation format with each row representing a level (group) for one variable and each column representing a level (group) for another variable. The test is comparing the observed observations to the expected observations.\n",
    "\n",
    "The following assumptions need to be meet in order for the results of the Chi-square test to be trusted.\n",
    "\n",
    "- When testing the data, the cells should be counts of cases and not percentages. It is okay to convert to percentages after testing the data\n",
    "- The levels (groups) of the variables being tested are mutually exclusive\n",
    "- Each participant contributes to only one cell within the Chi-square table\n",
    "- The groups being tested must be independent\n",
    "- The value of expected cells should be greater than 5 for at least 20% of the cells (If not, then the Fisher’s Exact test should be use to overcome this problem)\n",
    "\n",
    "If all of these assumptions are met, then Chi-square is the correct test to use.  \n",
    "\n",
    "Note that the Chi-squared test is an omnibus test: it tests the data as a whole, which means that one will not be able to easily tell which levels (categories) of the variables are responsible for the relationship if the Chi-square table is larger than 2×2. If so, other tests need to be conducted (eg, Bonferroni-adjusted p-value method).\n",
    "\n",
    "Sources: \n",
    "- http://www.biostathandbook.com/chiind.html\n",
    "- https://pythonfordatascience.org/chi-square-test-of-independence-python/"
   ]
  },
  {
   "cell_type": "code",
   "execution_count": 43,
   "metadata": {},
   "outputs": [
    {
     "data": {
      "text/plain": [
       "(1022.9098221922637,\n",
       " 2.1695802231894457e-213,\n",
       " 10,\n",
       " array([[    31.96347032,     24.03652968,     56.        ],\n",
       "        [  1415.52511416,   1064.47488584,   2480.        ],\n",
       "        [   813.35616438,    611.64383562,   1425.        ],\n",
       "        [  1751.71232877,   1317.28767123,   3069.        ],\n",
       "        [  3987.44292237,   2998.55707763,   6986.        ],\n",
       "        [  8000.        ,   6016.        ,  14016.        ]]))"
      ]
     },
     "execution_count": 43,
     "metadata": {},
     "output_type": "execute_result"
    }
   ],
   "source": [
    "from scipy import stats\n",
    "stats.chi2_contingency(cross_lyt)"
   ]
  },
  {
   "cell_type": "markdown",
   "metadata": {},
   "source": [
    "All expected frequencies are greater than 5, so we can consider the Chi-squared test valid.  The p-value 2.17e-213 indicates we can reject the null hypothesis (no relationship) with confidence. In other words, the test asserts there is a relationship between both categorical variables.\n",
    "\n",
    "Although our Chi-square test was signficant, since our analysis is larger than 2x2, we can't yet state exactly where the relationship is since the Chi-square test is an omnibus test. We have to conduct post hoc tests to test where the relationship is between the different levels (categories) of each variable."
   ]
  },
  {
   "cell_type": "code",
   "execution_count": 44,
   "metadata": {},
   "outputs": [
    {
     "data": {
      "text/html": [
       "<div>\n",
       "<style>\n",
       "    .dataframe thead tr:only-child th {\n",
       "        text-align: right;\n",
       "    }\n",
       "\n",
       "    .dataframe thead th {\n",
       "        text-align: left;\n",
       "    }\n",
       "\n",
       "    .dataframe tbody tr th {\n",
       "        vertical-align: top;\n",
       "    }\n",
       "</style>\n",
       "<table border=\"1\" class=\"dataframe\">\n",
       "  <thead>\n",
       "    <tr>\n",
       "      <th></th>\n",
       "      <th colspan=\"3\" halign=\"left\">TARGET</th>\n",
       "    </tr>\n",
       "    <tr>\n",
       "      <th></th>\n",
       "      <th>0</th>\n",
       "      <th>1</th>\n",
       "      <th>All</th>\n",
       "    </tr>\n",
       "    <tr>\n",
       "      <th>loyalty</th>\n",
       "      <th></th>\n",
       "      <th></th>\n",
       "      <th></th>\n",
       "    </tr>\n",
       "  </thead>\n",
       "  <tbody>\n",
       "    <tr>\n",
       "      <th>0</th>\n",
       "      <td>0.70</td>\n",
       "      <td>0.00</td>\n",
       "      <td>0.40</td>\n",
       "    </tr>\n",
       "    <tr>\n",
       "      <th>1</th>\n",
       "      <td>19.48</td>\n",
       "      <td>15.33</td>\n",
       "      <td>17.69</td>\n",
       "    </tr>\n",
       "    <tr>\n",
       "      <th>2</th>\n",
       "      <td>11.79</td>\n",
       "      <td>8.01</td>\n",
       "      <td>10.17</td>\n",
       "    </tr>\n",
       "    <tr>\n",
       "      <th>3</th>\n",
       "      <td>29.16</td>\n",
       "      <td>12.23</td>\n",
       "      <td>21.90</td>\n",
       "    </tr>\n",
       "    <tr>\n",
       "      <th>99</th>\n",
       "      <td>38.88</td>\n",
       "      <td>64.43</td>\n",
       "      <td>49.84</td>\n",
       "    </tr>\n",
       "    <tr>\n",
       "      <th>All</th>\n",
       "      <td>100.00</td>\n",
       "      <td>100.00</td>\n",
       "      <td>100.00</td>\n",
       "    </tr>\n",
       "  </tbody>\n",
       "</table>\n",
       "</div>"
      ],
      "text/plain": [
       "         TARGET                \n",
       "              0       1     All\n",
       "loyalty                        \n",
       "0          0.70    0.00    0.40\n",
       "1         19.48   15.33   17.69\n",
       "2         11.79    8.01   10.17\n",
       "3         29.16   12.23   21.90\n",
       "99        38.88   64.43   49.84\n",
       "All      100.00  100.00  100.00"
      ]
     },
     "execution_count": 44,
     "metadata": {},
     "output_type": "execute_result"
    }
   ],
   "source": [
    "import researchpy as rp\n",
    "table, results = rp.crosstab(data.loyalty, data.TARGET, prop= 'col', test= 'chi-square')\n",
    "table"
   ]
  },
  {
   "cell_type": "code",
   "execution_count": 45,
   "metadata": {},
   "outputs": [
    {
     "data": {
      "text/html": [
       "<div>\n",
       "<style>\n",
       "    .dataframe thead tr:only-child th {\n",
       "        text-align: right;\n",
       "    }\n",
       "\n",
       "    .dataframe thead th {\n",
       "        text-align: left;\n",
       "    }\n",
       "\n",
       "    .dataframe tbody tr th {\n",
       "        vertical-align: top;\n",
       "    }\n",
       "</style>\n",
       "<table border=\"1\" class=\"dataframe\">\n",
       "  <thead>\n",
       "    <tr style=\"text-align: right;\">\n",
       "      <th></th>\n",
       "      <th>Chi-square test</th>\n",
       "      <th>results</th>\n",
       "    </tr>\n",
       "  </thead>\n",
       "  <tbody>\n",
       "    <tr>\n",
       "      <th>0</th>\n",
       "      <td>Pearson Chi-square ( 4.0) =</td>\n",
       "      <td>1022.9098</td>\n",
       "    </tr>\n",
       "    <tr>\n",
       "      <th>1</th>\n",
       "      <td>p-value =</td>\n",
       "      <td>0.0000</td>\n",
       "    </tr>\n",
       "    <tr>\n",
       "      <th>2</th>\n",
       "      <td>Cramer's V =</td>\n",
       "      <td>0.2702</td>\n",
       "    </tr>\n",
       "  </tbody>\n",
       "</table>\n",
       "</div>"
      ],
      "text/plain": [
       "                Chi-square test    results\n",
       "0  Pearson Chi-square ( 4.0) =   1022.9098\n",
       "1                    p-value =      0.0000\n",
       "2                 Cramer's V =      0.2702"
      ]
     },
     "execution_count": 45,
     "metadata": {},
     "output_type": "execute_result"
    }
   ],
   "source": [
    "results"
   ]
  },
  {
   "cell_type": "markdown",
   "metadata": {},
   "source": [
    "### Correlations\n",
    "\n",
    "For the continuous variables, let's analyse the correlations."
   ]
  },
  {
   "cell_type": "code",
   "execution_count": 46,
   "metadata": {},
   "outputs": [
    {
     "data": {
      "text/html": [
       "<div>\n",
       "<style>\n",
       "    .dataframe thead tr:only-child th {\n",
       "        text-align: right;\n",
       "    }\n",
       "\n",
       "    .dataframe thead th {\n",
       "        text-align: left;\n",
       "    }\n",
       "\n",
       "    .dataframe tbody tr th {\n",
       "        vertical-align: top;\n",
       "    }\n",
       "</style>\n",
       "<table border=\"1\" class=\"dataframe\">\n",
       "  <thead>\n",
       "    <tr style=\"text-align: right;\">\n",
       "      <th></th>\n",
       "      <th>age</th>\n",
       "      <th>LOR</th>\n",
       "      <th>turnover_A</th>\n",
       "      <th>turnover_B</th>\n",
       "      <th>age_P</th>\n",
       "      <th>lor_M</th>\n",
       "    </tr>\n",
       "  </thead>\n",
       "  <tbody>\n",
       "    <tr>\n",
       "      <th>age</th>\n",
       "      <td>1.000000</td>\n",
       "      <td>0.089640</td>\n",
       "      <td>0.135887</td>\n",
       "      <td>0.251625</td>\n",
       "      <td>1.000000</td>\n",
       "      <td>0.089640</td>\n",
       "    </tr>\n",
       "    <tr>\n",
       "      <th>LOR</th>\n",
       "      <td>0.089640</td>\n",
       "      <td>1.000000</td>\n",
       "      <td>0.009987</td>\n",
       "      <td>0.158571</td>\n",
       "      <td>0.089640</td>\n",
       "      <td>1.000000</td>\n",
       "    </tr>\n",
       "    <tr>\n",
       "      <th>turnover_A</th>\n",
       "      <td>0.135887</td>\n",
       "      <td>0.009987</td>\n",
       "      <td>1.000000</td>\n",
       "      <td>0.128613</td>\n",
       "      <td>0.135887</td>\n",
       "      <td>0.009987</td>\n",
       "    </tr>\n",
       "    <tr>\n",
       "      <th>turnover_B</th>\n",
       "      <td>0.251625</td>\n",
       "      <td>0.158571</td>\n",
       "      <td>0.128613</td>\n",
       "      <td>1.000000</td>\n",
       "      <td>0.251625</td>\n",
       "      <td>0.158571</td>\n",
       "    </tr>\n",
       "    <tr>\n",
       "      <th>age_P</th>\n",
       "      <td>1.000000</td>\n",
       "      <td>0.089640</td>\n",
       "      <td>0.135887</td>\n",
       "      <td>0.251625</td>\n",
       "      <td>1.000000</td>\n",
       "      <td>0.089640</td>\n",
       "    </tr>\n",
       "    <tr>\n",
       "      <th>lor_M</th>\n",
       "      <td>0.089640</td>\n",
       "      <td>1.000000</td>\n",
       "      <td>0.009987</td>\n",
       "      <td>0.158571</td>\n",
       "      <td>0.089640</td>\n",
       "      <td>1.000000</td>\n",
       "    </tr>\n",
       "  </tbody>\n",
       "</table>\n",
       "</div>"
      ],
      "text/plain": [
       "                 age       LOR  turnover_A  turnover_B     age_P     lor_M\n",
       "age         1.000000  0.089640    0.135887    0.251625  1.000000  0.089640\n",
       "LOR         0.089640  1.000000    0.009987    0.158571  0.089640  1.000000\n",
       "turnover_A  0.135887  0.009987    1.000000    0.128613  0.135887  0.009987\n",
       "turnover_B  0.251625  0.158571    0.128613    1.000000  0.251625  0.158571\n",
       "age_P       1.000000  0.089640    0.135887    0.251625  1.000000  0.089640\n",
       "lor_M       0.089640  1.000000    0.009987    0.158571  0.089640  1.000000"
      ]
     },
     "execution_count": 46,
     "metadata": {},
     "output_type": "execute_result"
    }
   ],
   "source": [
    "corr = data[['age',  'LOR', 'turnover_A', 'turnover_B', 'age_P', 'lor_M']].corr()\n",
    "corr"
   ]
  },
  {
   "cell_type": "code",
   "execution_count": 47,
   "metadata": {},
   "outputs": [
    {
     "data": {
      "text/plain": [
       "<matplotlib.axes._subplots.AxesSubplot at 0x17a38364828>"
      ]
     },
     "execution_count": 47,
     "metadata": {},
     "output_type": "execute_result"
    },
    {
     "data": {
      "image/png": "[encoded data removed]",
      "text/plain": [
       "<Figure size 432x288 with 2 Axes>"
      ]
     },
     "metadata": {},
     "output_type": "display_data"
    }
   ],
   "source": [
    "sns.heatmap(corr, \n",
    "            xticklabels=corr.columns.values,\n",
    "            yticklabels=corr.columns.values,\n",
    "            cmap='RdYlGn')"
   ]
  },
  {
   "cell_type": "markdown",
   "metadata": {},
   "source": [
    "As expected, age and age_P are correlated, as well as LOR with lor_M.  We also see a weaker correlation between turnover_B and age (age_P)."
   ]
  },
  {
   "cell_type": "markdown",
   "metadata": {},
   "source": [
    "## Machine Learning Models\n",
    "\n",
    "### Overview\n",
    "\n",
    "There exist many types of models in Machine Learning, each adapted for a particular dataset.  In cases, different models can be used to solve the same problem. In general, the nature of the dataset gives an indication of the appropriate modeling technique.\n",
    "Generally speaking, machine Learning models can classifed in two categories: supervised and unsupervised learning.\n",
    "The most common ones in each category are listed below:\n",
    "\n",
    "* **Supervised Learning**\n",
    "\n",
    " * Linear Regression \n",
    " * Logistic Regression\n",
    " * Linear/quadratic discriminant analysis\n",
    " * Decision trees\n",
    " * Random Forest\n",
    " * Support vector machine\n",
    " * Naive Bayes\n",
    " * AdaBoost\n",
    " * Gradient-boosting trees\n",
    " * Simple neural network\n",
    "\n",
    "\n",
    "* **Unsupervised Learning**\n",
    "\n",
    " * K-means clustering\n",
    " * Gaussian mixture model\n",
    " * Hierarchical clustering\n",
    " * Recommender system\n",
    "\n",
    "In what follows, we will first use **Random Forest**.  Such models are used for classification or regression and improve the accuracy of a simple decision tree by generating multiple decision trees and taking a majority vote of them to predict the output, which can be a continuous variable for a regression problem or a discrete variable for classifcation.\n",
    "  \n",
    "Avantages: \n",
    "   - Considered as a highly accurate and robust method because of the number of decision trees\n",
    "   - It does not suffer from the overfitting problem. The main reason is that it takes the average of all the predictions, which cancels out the biases.\n",
    "   - The algorithm can be used in both classification and regression problems.\n",
    "   - Random forests can also handle missing values. There are two ways to handle these: using median values to replace continuous variables, and computing the proximity-weighted average of missing values.\n",
    "   - You can get the relative feature importance, which helps in selecting the most contributing features for the classifier.\n",
    "   \n",
    "Disadvantages:\n",
    "   - Random forests is slow in generating predictions because it has multiple decision trees. Whenever it makes a prediction, all the trees in the forest have to make a prediction for the same given input and then perform voting on it. This whole process is time-consuming.\n",
    "   - The model is difficult to interpret compared to a decision tree, where you can easily make a decision by following the path in the tree.\n",
    " "
   ]
  },
  {
   "cell_type": "markdown",
   "metadata": {},
   "source": [
    "### Data preparation"
   ]
  },
  {
   "cell_type": "markdown",
   "metadata": {},
   "source": [
    "The columns type_A, type_B are assumed categorical.  To better analyse them, we can generate dummy variables.  The value 0 will be dropped. We do the same for city and loyalty."
   ]
  },
  {
   "cell_type": "code",
   "execution_count": 48,
   "metadata": {
    "collapsed": true
   },
   "outputs": [],
   "source": [
    "dummy_type_A = pd.get_dummies(data.type_A, prefix='type_A', drop_first=True)\n",
    "dummy_type_B = pd.get_dummies(data.type_B, prefix='type_B', drop_first=True)\n",
    "dummy_cities = pd.get_dummies(data.city, prefix='city')\n",
    "dummy_loyalties = pd.get_dummies(data.loyalty, prefix='loyalty')"
   ]
  },
  {
   "cell_type": "code",
   "execution_count": 49,
   "metadata": {
    "collapsed": true
   },
   "outputs": [],
   "source": [
    "data_full = pd.concat([data,dummy_type_A, dummy_type_B, dummy_cities, dummy_loyalties], axis=1)"
   ]
  },
  {
   "cell_type": "code",
   "execution_count": 50,
   "metadata": {},
   "outputs": [
    {
     "data": {
      "text/html": [
       "<div>\n",
       "<style>\n",
       "    .dataframe thead tr:only-child th {\n",
       "        text-align: right;\n",
       "    }\n",
       "\n",
       "    .dataframe thead th {\n",
       "        text-align: left;\n",
       "    }\n",
       "\n",
       "    .dataframe tbody tr th {\n",
       "        vertical-align: top;\n",
       "    }\n",
       "</style>\n",
       "<table border=\"1\" class=\"dataframe\">\n",
       "  <thead>\n",
       "    <tr style=\"text-align: right;\">\n",
       "      <th></th>\n",
       "      <th>TARGET</th>\n",
       "      <th>loyalty</th>\n",
       "      <th>ID</th>\n",
       "      <th>age</th>\n",
       "      <th>city</th>\n",
       "      <th>LOR</th>\n",
       "      <th>prod_A</th>\n",
       "      <th>type_A</th>\n",
       "      <th>type_B</th>\n",
       "      <th>prod_B</th>\n",
       "      <th>...</th>\n",
       "      <th>city_197</th>\n",
       "      <th>city_209</th>\n",
       "      <th>city_219</th>\n",
       "      <th>city_229</th>\n",
       "      <th>city_235</th>\n",
       "      <th>loyalty_0</th>\n",
       "      <th>loyalty_1</th>\n",
       "      <th>loyalty_2</th>\n",
       "      <th>loyalty_3</th>\n",
       "      <th>loyalty_99</th>\n",
       "    </tr>\n",
       "  </thead>\n",
       "  <tbody>\n",
       "    <tr>\n",
       "      <th>0</th>\n",
       "      <td>1</td>\n",
       "      <td>99</td>\n",
       "      <td>77</td>\n",
       "      <td>66</td>\n",
       "      <td>2</td>\n",
       "      <td>0</td>\n",
       "      <td>0</td>\n",
       "      <td>0</td>\n",
       "      <td>0</td>\n",
       "      <td>0</td>\n",
       "      <td>...</td>\n",
       "      <td>0</td>\n",
       "      <td>0</td>\n",
       "      <td>0</td>\n",
       "      <td>0</td>\n",
       "      <td>0</td>\n",
       "      <td>0</td>\n",
       "      <td>0</td>\n",
       "      <td>0</td>\n",
       "      <td>0</td>\n",
       "      <td>1</td>\n",
       "    </tr>\n",
       "    <tr>\n",
       "      <th>1</th>\n",
       "      <td>1</td>\n",
       "      <td>1</td>\n",
       "      <td>159</td>\n",
       "      <td>45</td>\n",
       "      <td>2</td>\n",
       "      <td>3</td>\n",
       "      <td>1</td>\n",
       "      <td>3</td>\n",
       "      <td>3</td>\n",
       "      <td>1</td>\n",
       "      <td>...</td>\n",
       "      <td>0</td>\n",
       "      <td>0</td>\n",
       "      <td>0</td>\n",
       "      <td>0</td>\n",
       "      <td>0</td>\n",
       "      <td>0</td>\n",
       "      <td>1</td>\n",
       "      <td>0</td>\n",
       "      <td>0</td>\n",
       "      <td>0</td>\n",
       "    </tr>\n",
       "    <tr>\n",
       "      <th>2</th>\n",
       "      <td>1</td>\n",
       "      <td>1</td>\n",
       "      <td>220</td>\n",
       "      <td>42</td>\n",
       "      <td>2</td>\n",
       "      <td>2</td>\n",
       "      <td>1</td>\n",
       "      <td>3</td>\n",
       "      <td>6</td>\n",
       "      <td>1</td>\n",
       "      <td>...</td>\n",
       "      <td>0</td>\n",
       "      <td>0</td>\n",
       "      <td>0</td>\n",
       "      <td>0</td>\n",
       "      <td>0</td>\n",
       "      <td>0</td>\n",
       "      <td>1</td>\n",
       "      <td>0</td>\n",
       "      <td>0</td>\n",
       "      <td>0</td>\n",
       "    </tr>\n",
       "    <tr>\n",
       "      <th>3</th>\n",
       "      <td>1</td>\n",
       "      <td>99</td>\n",
       "      <td>303</td>\n",
       "      <td>31</td>\n",
       "      <td>2</td>\n",
       "      <td>0</td>\n",
       "      <td>0</td>\n",
       "      <td>0</td>\n",
       "      <td>0</td>\n",
       "      <td>0</td>\n",
       "      <td>...</td>\n",
       "      <td>0</td>\n",
       "      <td>0</td>\n",
       "      <td>0</td>\n",
       "      <td>0</td>\n",
       "      <td>0</td>\n",
       "      <td>0</td>\n",
       "      <td>0</td>\n",
       "      <td>0</td>\n",
       "      <td>0</td>\n",
       "      <td>1</td>\n",
       "    </tr>\n",
       "    <tr>\n",
       "      <th>4</th>\n",
       "      <td>1</td>\n",
       "      <td>99</td>\n",
       "      <td>306</td>\n",
       "      <td>62</td>\n",
       "      <td>2</td>\n",
       "      <td>0</td>\n",
       "      <td>0</td>\n",
       "      <td>0</td>\n",
       "      <td>0</td>\n",
       "      <td>0</td>\n",
       "      <td>...</td>\n",
       "      <td>0</td>\n",
       "      <td>0</td>\n",
       "      <td>0</td>\n",
       "      <td>0</td>\n",
       "      <td>0</td>\n",
       "      <td>0</td>\n",
       "      <td>0</td>\n",
       "      <td>0</td>\n",
       "      <td>0</td>\n",
       "      <td>1</td>\n",
       "    </tr>\n",
       "  </tbody>\n",
       "</table>\n",
       "<p>5 rows × 91 columns</p>\n",
       "</div>"
      ],
      "text/plain": [
       "   TARGET loyalty   ID  age city  LOR  prod_A type_A type_B  prod_B  \\\n",
       "0       1      99   77   66    2    0       0      0      0       0   \n",
       "1       1       1  159   45    2    3       1      3      3       1   \n",
       "2       1       1  220   42    2    2       1      3      6       1   \n",
       "3       1      99  303   31    2    0       0      0      0       0   \n",
       "4       1      99  306   62    2    0       0      0      0       0   \n",
       "\n",
       "      ...      city_197  city_209 city_219  city_229  city_235  loyalty_0  \\\n",
       "0     ...             0         0        0         0         0          0   \n",
       "1     ...             0         0        0         0         0          0   \n",
       "2     ...             0         0        0         0         0          0   \n",
       "3     ...             0         0        0         0         0          0   \n",
       "4     ...             0         0        0         0         0          0   \n",
       "\n",
       "   loyalty_1  loyalty_2  loyalty_3  loyalty_99  \n",
       "0          0          0          0           1  \n",
       "1          1          0          0           0  \n",
       "2          1          0          0           0  \n",
       "3          0          0          0           1  \n",
       "4          0          0          0           1  \n",
       "\n",
       "[5 rows x 91 columns]"
      ]
     },
     "execution_count": 50,
     "metadata": {},
     "output_type": "execute_result"
    }
   ],
   "source": [
    "data_full.head()"
   ]
  },
  {
   "cell_type": "code",
   "execution_count": 51,
   "metadata": {},
   "outputs": [
    {
     "data": {
      "text/plain": [
       "Index(['TARGET', 'loyalty', 'ID', 'age', 'city', 'LOR', 'prod_A', 'type_A',\n",
       "       'type_B', 'prod_B', 'turnover_A', 'turnover_B', 'contract', 'age_P',\n",
       "       'lor_M', 'turnover_AB', 'type_A_3', 'type_A_6', 'type_B_3', 'type_B_6',\n",
       "       'type_B_9', 'city_-999999', 'city_0', 'city_1', 'city_2', 'city_3',\n",
       "       'city_4', 'city_5', 'city_6', 'city_7', 'city_8', 'city_9', 'city_10',\n",
       "       'city_11', 'city_12', 'city_13', 'city_14', 'city_15', 'city_16',\n",
       "       'city_17', 'city_18', 'city_22', 'city_23', 'city_28', 'city_30',\n",
       "       'city_31', 'city_33', 'city_47', 'city_49', 'city_51', 'city_53',\n",
       "       'city_58', 'city_72', 'city_73', 'city_84', 'city_89', 'city_94',\n",
       "       'city_104', 'city_107', 'city_110', 'city_111', 'city_114', 'city_115',\n",
       "       'city_116', 'city_121', 'city_122', 'city_125', 'city_126', 'city_127',\n",
       "       'city_129', 'city_131', 'city_137', 'city_141', 'city_142', 'city_148',\n",
       "       'city_161', 'city_174', 'city_177', 'city_178', 'city_187', 'city_191',\n",
       "       'city_197', 'city_209', 'city_219', 'city_229', 'city_235', 'loyalty_0',\n",
       "       'loyalty_1', 'loyalty_2', 'loyalty_3', 'loyalty_99'],\n",
       "      dtype='object')"
      ]
     },
     "execution_count": 51,
     "metadata": {},
     "output_type": "execute_result"
    }
   ],
   "source": [
    "data_full.columns"
   ]
  },
  {
   "cell_type": "markdown",
   "metadata": {},
   "source": [
    "### Preparing X,y and splitting training and test data\n",
    "\n",
    "The full dataset is first considered."
   ]
  },
  {
   "cell_type": "code",
   "execution_count": 52,
   "metadata": {
    "collapsed": true
   },
   "outputs": [],
   "source": [
    "X = data_full[['loyalty', 'age', 'LOR', 'turnover_A', 'turnover_B', 'contract', 'age_P',\n",
    "       'type_A_3', 'type_A_6', 'type_B_3', 'type_B_6', 'type_B_9', 'prod_A', 'prod_B',\n",
    "       'city_-999999', 'city_0', 'city_1', 'city_2', 'city_3', 'city_4',\n",
    "       'city_5', 'city_6', 'city_7', 'city_8', 'city_9', 'city_10', 'city_11',\n",
    "       'city_12', 'city_13', 'city_14', 'city_15', 'city_16', 'city_17',\n",
    "       'city_18', 'city_22', 'city_23', 'city_28', 'city_30', 'city_31',\n",
    "       'city_33', 'city_47', 'city_49', 'city_51', 'city_53', 'city_58',\n",
    "       'city_72', 'city_73', 'city_84', 'city_89', 'city_94', 'city_104',\n",
    "       'city_107', 'city_110', 'city_111', 'city_114', 'city_115', 'city_116',\n",
    "       'city_121', 'city_122', 'city_125', 'city_126', 'city_127', 'city_129',\n",
    "       'city_131', 'city_137', 'city_141', 'city_142', 'city_148', 'city_161',\n",
    "       'city_174', 'city_177', 'city_178', 'city_187', 'city_191', 'city_197',\n",
    "       'city_209', 'city_219', 'city_229', 'city_235', 'loyalty_0',\n",
    "       'loyalty_1', 'loyalty_2', 'loyalty_3', 'loyalty_99']]\n",
    "\n",
    "y = data_full['TARGET']"
   ]
  },
  {
   "cell_type": "code",
   "execution_count": 53,
   "metadata": {
    "collapsed": true
   },
   "outputs": [],
   "source": [
    "from sklearn.model_selection import train_test_split\n",
    "X_train, X_test, y_train, y_test = train_test_split(X, y, test_size=0.3, random_state=42)"
   ]
  },
  {
   "cell_type": "markdown",
   "metadata": {},
   "source": [
    "### Random Forest\n",
    "\n",
    "We train the model."
   ]
  },
  {
   "cell_type": "code",
   "execution_count": 54,
   "metadata": {},
   "outputs": [
    {
     "name": "stdout",
     "output_type": "stream",
     "text": [
      "Accuracy: 0.928656361474\n"
     ]
    }
   ],
   "source": [
    "clf=RandomForestClassifier(n_estimators=100)\n",
    "clf.fit(X_train,y_train)\n",
    "\n",
    "print(\"Accuracy:\",metrics.accuracy_score(y_test, clf.predict(X_test)))"
   ]
  },
  {
   "cell_type": "markdown",
   "metadata": {},
   "source": [
    "Let's classify the features by order of importance."
   ]
  },
  {
   "cell_type": "code",
   "execution_count": 55,
   "metadata": {},
   "outputs": [
    {
     "data": {
      "text/plain": [
       "turnover_A    0.335993\n",
       "turnover_B    0.292358\n",
       "age_P         0.105737\n",
       "age           0.093989\n",
       "LOR           0.046486\n",
       "prod_B        0.021648\n",
       "type_A_3      0.018742\n",
       "prod_A        0.016248\n",
       "type_B_3      0.014140\n",
       "loyalty       0.013271\n",
       "dtype: float64"
      ]
     },
     "execution_count": 55,
     "metadata": {},
     "output_type": "execute_result"
    }
   ],
   "source": [
    "feature_imp = pd.Series(clf.feature_importances_,index=X_train.columns).sort_values(ascending=False)\n",
    "feature_imp.head(10)"
   ]
  },
  {
   "cell_type": "markdown",
   "metadata": {},
   "source": [
    "Let's train the model using the first 4, 5, 6... features.  By successive trials, we see that the highest accuracy is obtained with 8 features."
   ]
  },
  {
   "cell_type": "code",
   "execution_count": 56,
   "metadata": {},
   "outputs": [
    {
     "name": "stdout",
     "output_type": "stream",
     "text": [
      "Accuracy: 0.929131985731\n"
     ]
    }
   ],
   "source": [
    "X = data_full[feature_imp.head(8).index.values]\n",
    "y = data_full['TARGET']\n",
    "\n",
    "X_train, X_test, y_train, y_test = train_test_split(X, y, test_size=0.3, random_state=42)\n",
    "\n",
    "clf=RandomForestClassifier(n_estimators=100)\n",
    "clf.fit(X_train,y_train)\n",
    "\n",
    "print(\"Accuracy:\",metrics.accuracy_score(y_test, clf.predict(X_test)))"
   ]
  },
  {
   "cell_type": "markdown",
   "metadata": {},
   "source": [
    "This confirms these selected features capture most of the relevant data."
   ]
  },
  {
   "cell_type": "markdown",
   "metadata": {},
   "source": [
    "### Support Vector Classification\n",
    "\n",
    "Linear kernel:"
   ]
  },
  {
   "cell_type": "code",
   "execution_count": 57,
   "metadata": {
    "collapsed": true
   },
   "outputs": [],
   "source": [
    "from sklearn import preprocessing\n",
    "X_train = preprocessing.scale(X_train)\n",
    "X_test = preprocessing.scale(X_test)\n",
    "\n",
    "clf = SVC(kernel = 'linear').fit(X_train,y_train)"
   ]
  },
  {
   "cell_type": "code",
   "execution_count": 58,
   "metadata": {},
   "outputs": [
    {
     "data": {
      "image/png": "[encoded data removed]",
      "text/plain": [
       "<Figure size 432x288 with 2 Axes>"
      ]
     },
     "metadata": {},
     "output_type": "display_data"
    }
   ],
   "source": [
    "y_pred = clf.predict(X_test)\n",
    "\n",
    "cm = confusion_matrix(y_test, y_pred)\n",
    "\n",
    "sns.heatmap(cm, annot=True)\n",
    "plt.title('SVM Linear Kernel \\nAccuracy:{0:.3f}'.format(accuracy_score(y_test, y_pred)))\n",
    "plt.ylabel('True')\n",
    "plt.xlabel('Predicted')\n",
    "plt.show()"
   ]
  },
  {
   "cell_type": "markdown",
   "metadata": {},
   "source": [
    "Accuracy = Total true positives / All"
   ]
  },
  {
   "cell_type": "markdown",
   "metadata": {},
   "source": [
    "RBF kernel:"
   ]
  },
  {
   "cell_type": "code",
   "execution_count": 59,
   "metadata": {
    "collapsed": true
   },
   "outputs": [],
   "source": [
    "clf = SVC(kernel = 'rbf').fit(X_train,y_train)"
   ]
  },
  {
   "cell_type": "code",
   "execution_count": 60,
   "metadata": {},
   "outputs": [
    {
     "data": {
      "image/png": "[encoded data removed]",
      "text/plain": [
       "<Figure size 432x288 with 2 Axes>"
      ]
     },
     "metadata": {},
     "output_type": "display_data"
    }
   ],
   "source": [
    "y_pred = clf.predict(X_test)\n",
    "\n",
    "cm = confusion_matrix(y_test, y_pred)\n",
    "\n",
    "sns.heatmap(cm, annot=True)\n",
    "plt.title('SVM RBF Kernel \\nAccuracy:{0:.3f}'.format(accuracy_score(y_test, y_pred)))\n",
    "plt.ylabel('True')\n",
    "plt.xlabel('Predicted')\n",
    "plt.show()"
   ]
  },
  {
   "cell_type": "markdown",
   "metadata": {},
   "source": [
    "Other kernels can be used, such as 'poly' (polynomial), 'sigmoid', etc."
   ]
  },
  {
   "cell_type": "code",
   "execution_count": 61,
   "metadata": {},
   "outputs": [],
   "source": [
    "clf_poly = SVC(kernel = 'poly').fit(X_train,y_train)"
   ]
  },
  {
   "cell_type": "code",
   "execution_count": 62,
   "metadata": {},
   "outputs": [
    {
     "data": {
      "image/png": "[encoded data removed]",
      "text/plain": [
       "<Figure size 432x288 with 2 Axes>"
      ]
     },
     "metadata": {},
     "output_type": "display_data"
    }
   ],
   "source": [
    "y_pred = clf_poly.predict(X_test)\n",
    "\n",
    "cm_poly = confusion_matrix(y_test, y_pred)\n",
    "\n",
    "sns.heatmap(cm_poly, annot=True)\n",
    "plt.title('SVM Polynomial Kernel \\nAccuracy:{0:.3f}'.format(accuracy_score(y_test, y_pred)))\n",
    "plt.ylabel('True')\n",
    "plt.xlabel('Predicted')\n",
    "plt.show()"
   ]
  },
  {
   "cell_type": "markdown",
   "metadata": {},
   "source": [
    "Sigmoid:"
   ]
  },
  {
   "cell_type": "code",
   "execution_count": 63,
   "metadata": {
    "collapsed": true
   },
   "outputs": [],
   "source": [
    "clf_sig = SVC(kernel = 'sigmoid').fit(X_train,y_train)"
   ]
  },
  {
   "cell_type": "code",
   "execution_count": 64,
   "metadata": {},
   "outputs": [
    {
     "data": {
      "image/png": "[encoded data removed]",
      "text/plain": [
       "<Figure size 432x288 with 2 Axes>"
      ]
     },
     "metadata": {},
     "output_type": "display_data"
    }
   ],
   "source": [
    "y_pred = clf_sig.predict(X_test)\n",
    "\n",
    "cm_sig = confusion_matrix(y_test, y_pred)\n",
    "\n",
    "sns.heatmap(cm_poly, annot=True)\n",
    "plt.title('SVM Polynomial Kernel \\nAccuracy:{0:.3f}'.format(accuracy_score(y_test, y_pred)))\n",
    "plt.ylabel('True')\n",
    "plt.xlabel('Predicted')\n",
    "plt.show()"
   ]
  },
  {
   "cell_type": "markdown",
   "metadata": {},
   "source": [
    "### Other models (using Pipeline)\n",
    "\n",
    "One can train other types of modules.  By using Pipeline, it makes easier to combine various steps in the workflow: scaling, adding new features by using PolynomialFeatures, etc."
   ]
  },
  {
   "cell_type": "code",
   "execution_count": 65,
   "metadata": {},
   "outputs": [
    {
     "name": "stdout",
     "output_type": "stream",
     "text": [
      "\n",
      "Accuracy:  0.927942925089\n"
     ]
    }
   ],
   "source": [
    "X_train, X_test, y_train, y_test = train_test_split(X, y, test_size=0.3, random_state=42)\n",
    "\n",
    "# Setup the hyperparameter grid\n",
    "c_space = np.logspace(-5, 8, 15)\n",
    "param_grid = {'C': c_space, 'penalty': ['l1', 'l2']}\n",
    "\n",
    "# Setup the parameters and distributions to sample from: param_dist\n",
    "param_dist = {\"max_depth\": [3, None],\n",
    "              \"max_features\": randint(1, 9),\n",
    "              \"min_samples_leaf\": randint(1, 9),\n",
    "              \"criterion\": [\"gini\", \"entropy\"]}\n",
    "\n",
    "# Edit model step in pipeline\n",
    "pl = Pipeline([\n",
    "        #('imputer', Imputer(missing_values='NaN', strategy='mean', axis=0)),\n",
    "        ('rescale', StandardScaler()),\n",
    "        ('int', PolynomialFeatures(degree=3, interaction_only=True)),\n",
    "        #('clf_cv', RandomizedSearchCV(DecisionTreeClassifier(), param_dist, cv=5))\n",
    "        #('logreg_cv', GridSearchCV(LogisticRegression(), param_grid, cv=10))\n",
    "        #('clf', LogisticRegression())\n",
    "        #('ridge', Ridge(normalize=True))\n",
    "        #('clf', LinearRegression())\n",
    "        #('clf', OneVsRestClassifier(LogisticRegression()))\n",
    "        #('knn', KNeighborsClassifier(n_neighbors=3))\n",
    "        ('clf', RandomForestClassifier(n_estimators=100, criterion='entropy')) # Adjusting parameters\n",
    "    ])\n",
    "\n",
    "# Fit to the training data\n",
    "pl.fit(X_train, y_train)\n",
    "\n",
    "# Compute and print accuracy\n",
    "accuracy = pl.score(X_test, y_test)\n",
    "print(\"\\nAccuracy: \", accuracy)"
   ]
  },
  {
   "cell_type": "markdown",
   "metadata": {},
   "source": [
    "The best accuracy is obtained with Random Forest Classifier (~0.93)."
   ]
  },
  {
   "cell_type": "markdown",
   "metadata": {},
   "source": [
    "### Neural network using Keras\n",
    "\n",
    "NB: Keras will split the data into training/test sets."
   ]
  },
  {
   "cell_type": "code",
   "execution_count": 66,
   "metadata": {},
   "outputs": [
    {
     "name": "stderr",
     "output_type": "stream",
     "text": [
      "Using Theano backend.\n"
     ]
    },
    {
     "name": "stdout",
     "output_type": "stream",
     "text": [
      "Train on 9811 samples, validate on 4205 samples\n",
      "Epoch 1/10\n",
      "9811/9811 [==============================] - 1s 101us/step - loss: 0.4240 - acc: 0.8020 - val_loss: 0.5790 - val_acc: 0.6647\n",
      "Epoch 2/10\n",
      "9811/9811 [==============================] - 1s 61us/step - loss: 0.3715 - acc: 0.8353 - val_loss: 0.5871 - val_acc: 0.6904\n",
      "Epoch 3/10\n",
      "9811/9811 [==============================] - 2s 203us/step - loss: 0.3455 - acc: 0.8524 - val_loss: 0.4560 - val_acc: 0.7455\n",
      "Epoch 4/10\n",
      "9811/9811 [==============================] - 1s 73us/step - loss: 0.3298 - acc: 0.8615 - val_loss: 0.4426 - val_acc: 0.7489\n",
      "Epoch 5/10\n",
      "9811/9811 [==============================] - 1s 71us/step - loss: 0.3194 - acc: 0.8658 - val_loss: 0.4850 - val_acc: 0.7382\n",
      "Epoch 6/10\n",
      "9811/9811 [==============================] - 1s 74us/step - loss: 0.3064 - acc: 0.8724 - val_loss: 0.4910 - val_acc: 0.7334\n",
      "Epoch 7/10\n",
      "9811/9811 [==============================] - 1s 76us/step - loss: 0.2968 - acc: 0.8769 - val_loss: 0.4596 - val_acc: 0.7586\n",
      "Epoch 8/10\n",
      "9811/9811 [==============================] - 1s 80us/step - loss: 0.3013 - acc: 0.8735 - val_loss: 0.5229 - val_acc: 0.7263\n",
      "Epoch 9/10\n",
      "9811/9811 [==============================] - 2s 195us/step - loss: 0.2895 - acc: 0.8826 - val_loss: 0.5071 - val_acc: 0.7429\n",
      "Epoch 10/10\n",
      "9811/9811 [==============================] - 1s 86us/step - loss: 0.2899 - acc: 0.8812 - val_loss: 0.4517 - val_acc: 0.7696\n"
     ]
    },
    {
     "data": {
      "text/plain": [
       "Pipeline(memory=None,\n",
       "     steps=[('rescale', StandardScaler(copy=True, with_mean=True, with_std=True)), ('kc', <keras.wrappers.scikit_learn.KerasClassifier object at 0x0000017A36343160>)])"
      ]
     },
     "execution_count": 66,
     "metadata": {},
     "output_type": "execute_result"
    }
   ],
   "source": [
    "# Import necessary modules\n",
    "import os; os.environ['KERAS_BACKEND'] = 'theano'\n",
    "import keras\n",
    "from keras.layers import Dense\n",
    "from keras.callbacks import EarlyStopping\n",
    "from keras.models import Sequential, save_model\n",
    "from keras.utils import to_categorical\n",
    "from keras.optimizers import SGD\n",
    "from keras.wrappers.scikit_learn import KerasClassifier\n",
    "from sklearn.pipeline import Pipeline\n",
    "\n",
    "X = data_full[feature_imp.head(8).index.values]\n",
    "y = data_full['TARGET']\n",
    "\n",
    "# Predictors\n",
    "predictors = X.as_matrix()\n",
    "\n",
    "# n_cols\n",
    "n_cols = predictors.shape[1]\n",
    "\n",
    "# Convert the target to categorical: target\n",
    "target = to_categorical(y)\n",
    "\n",
    "# Define early_stopping_monitor\n",
    "early_stopping_monitor = EarlyStopping(patience=5)\n",
    "\n",
    "def model():\n",
    "    \n",
    "    # Set up the model\n",
    "    model = Sequential()\n",
    "\n",
    "    # Neural network architecture\n",
    "    model.add(Dense(100, activation='relu', input_shape=(n_cols,)))\n",
    "    model.add(Dense(100, activation='relu'))\n",
    "    model.add(Dense(100, activation='relu'))\n",
    "    model.add(Dense(100, activation='relu'))\n",
    "\n",
    "    # Add the output layer\n",
    "    model.add(Dense(2, activation='softmax'))\n",
    "\n",
    "    # Compile the model\n",
    "    model.compile(optimizer='adam', loss='categorical_crossentropy', metrics=['accuracy']) # other optimizer: rmsprop\n",
    "    \n",
    "    return model\n",
    "\n",
    "pl = Pipeline([\n",
    "        #('imputer', Imputer(missing_values='NaN', strategy='mean', axis=0)),\n",
    "        ('rescale', StandardScaler()),\n",
    "        ('kc', KerasClassifier(build_fn=model, epochs=10, validation_split=0.3, verbose=True))\n",
    "    ])\n",
    "\n",
    "# Fit the model\n",
    "pl.fit(predictors, target)"
   ]
  },
  {
   "cell_type": "markdown",
   "metadata": {},
   "source": [
    "### AutoML (Google)\n",
    "\n",
    "Out of curiosity, the Google AutoML tool was used to build a model.  Here are the results obtained (click to enlarge):\n",
    "\n",
    "![alt text](5.Evaluation.png?raw=true \"POST\")"
   ]
  },
  {
   "cell_type": "markdown",
   "metadata": {},
   "source": [
    "## Conclusions\n",
    "\n",
    "We now summarize the results of this analysis below, together with the questions stated at the beginning:\n",
    "- Which steps taken in this analysis?\n",
    "\n",
    "  > After importing and preparing the data, Exploratory Data Analysis was performed to find insightful information in the data and identify client profiles that could improve sales of the new product.\n",
    "\n",
    "- Which statistical modelling techniques were used and why? What are the results?\n",
    "\n",
    "  > Various machine learnings models were used, such as Linear and Logistic Regression, Random Forest, SVC and Neural Network (Keras). An analysis of feature importance allowed to only select the features capturing the relevant data with respect to the target prediction.  The respective accuracy of these models was computed and Random Forest obtained the best score (93% accuracy).  \n",
    "\n",
    "- Give a profile description of the customers who are likely to (not) buy the new product.\n",
    "\n",
    "  > From the EDA performed on the data, we obtained the following:\n",
    "  > - Customers that bought the new product seems to be older on average (39) than the ones that didn't subscribe (33)\n",
    "  > - Most customers buying the new product didn't subscribe to product A nor B (makes sense). Similarly, most customers that didn't buy the new product already subscribed to product A and B. Lack of data about customers only subscribing to product A. Detaining only product B does not seem to have an impact on the choice of subscribing to the new product.\n",
    "  > - In the dataset, the customers buying product A (type 3) and product B (type 3) are the most frequent, and for those, we observe that a high number of them didn't subscribe to the new product. Lack of data to confirm that the specific choice of type 3 for both A and B is causing this behaviour, but this could come from the fact that type 3 for A and B have redundant features compared to the new product.\n",
    "  > - In the dataset, most customers are living in city 2.  Roughly half are subscribing to the new product.\n",
    "  > - Disregarding the unclassified customers (loyalty = 99), customers with a high loyalty (3) don't seem to be inclined to buy the new product. They shouldn't be targetted in priority. For customers with loyalty 1, the gap seems the smallest.  A Chi-squared test confirms the existence of a relationship between loyalty and customers subscribing to the new product.\n",
    "\n",
    "- Which customers should we target to do a marketing campaign for the new product?\n",
    "\n",
    "  > As described in the client profile, customers with low loyalty and no subscription to product A and B (both of type 3) could be targetted in priority. Logically, targetting customers living in city 2 will tend to increase turnover.\n",
    "\n",
    "- How accurate is the prediction of buying the new product?\n",
    "\n",
    "  > The highest accuracy obtained with Random Forest was 93%."
   ]
  }
 ],
 "metadata": {
  "celltoolbar": "Raw Cell Format",
  "kernelspec": {
   "display_name": "Python 3",
   "language": "python",
   "name": "python3"
  },
  "language_info": {
   "codemirror_mode": {
    "name": "ipython",
    "version": 3
   },
   "file_extension": ".py",
   "mimetype": "text/x-python",
   "name": "python",
   "nbconvert_exporter": "python",
   "pygments_lexer": "ipython3",
   "version": "3.6.2"
  }
 },
 "nbformat": 4,
 "nbformat_minor": 2
}
